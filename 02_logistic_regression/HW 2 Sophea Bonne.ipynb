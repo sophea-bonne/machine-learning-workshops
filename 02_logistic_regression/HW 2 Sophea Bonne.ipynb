{
 "cells": [
  {
   "cell_type": "code",
   "execution_count": 2,
   "metadata": {},
   "outputs": [
    {
     "data": {
      "text/html": [
       "<div>\n",
       "<style scoped>\n",
       "    .dataframe tbody tr th:only-of-type {\n",
       "        vertical-align: middle;\n",
       "    }\n",
       "\n",
       "    .dataframe tbody tr th {\n",
       "        vertical-align: top;\n",
       "    }\n",
       "\n",
       "    .dataframe thead th {\n",
       "        text-align: right;\n",
       "    }\n",
       "</style>\n",
       "<table border=\"1\" class=\"dataframe\">\n",
       "  <thead>\n",
       "    <tr style=\"text-align: right;\">\n",
       "      <th></th>\n",
       "      <th>male</th>\n",
       "      <th>age</th>\n",
       "      <th>education</th>\n",
       "      <th>currentSmoker</th>\n",
       "      <th>cigsPerDay</th>\n",
       "      <th>BPMeds</th>\n",
       "      <th>prevalentStroke</th>\n",
       "      <th>prevalentHyp</th>\n",
       "      <th>diabetes</th>\n",
       "      <th>totChol</th>\n",
       "      <th>sysBP</th>\n",
       "      <th>diaBP</th>\n",
       "      <th>BMI</th>\n",
       "      <th>heartRate</th>\n",
       "      <th>glucose</th>\n",
       "      <th>TenYearCHD</th>\n",
       "    </tr>\n",
       "  </thead>\n",
       "  <tbody>\n",
       "    <tr>\n",
       "      <th>0</th>\n",
       "      <td>0</td>\n",
       "      <td>47</td>\n",
       "      <td>Some high school</td>\n",
       "      <td>1</td>\n",
       "      <td>40</td>\n",
       "      <td>0</td>\n",
       "      <td>0</td>\n",
       "      <td>0</td>\n",
       "      <td>0</td>\n",
       "      <td>221</td>\n",
       "      <td>144.0</td>\n",
       "      <td>91.0</td>\n",
       "      <td>35.78</td>\n",
       "      <td>85</td>\n",
       "      <td>66</td>\n",
       "      <td>0</td>\n",
       "    </tr>\n",
       "    <tr>\n",
       "      <th>1</th>\n",
       "      <td>1</td>\n",
       "      <td>48</td>\n",
       "      <td>High school/GED</td>\n",
       "      <td>1</td>\n",
       "      <td>17</td>\n",
       "      <td>0</td>\n",
       "      <td>0</td>\n",
       "      <td>0</td>\n",
       "      <td>0</td>\n",
       "      <td>218</td>\n",
       "      <td>113.0</td>\n",
       "      <td>79.0</td>\n",
       "      <td>27.33</td>\n",
       "      <td>62</td>\n",
       "      <td>73</td>\n",
       "      <td>0</td>\n",
       "    </tr>\n",
       "    <tr>\n",
       "      <th>2</th>\n",
       "      <td>0</td>\n",
       "      <td>59</td>\n",
       "      <td>Some high school</td>\n",
       "      <td>0</td>\n",
       "      <td>0</td>\n",
       "      <td>0</td>\n",
       "      <td>0</td>\n",
       "      <td>1</td>\n",
       "      <td>0</td>\n",
       "      <td>254</td>\n",
       "      <td>181.0</td>\n",
       "      <td>101.0</td>\n",
       "      <td>24.67</td>\n",
       "      <td>76</td>\n",
       "      <td>68</td>\n",
       "      <td>0</td>\n",
       "    </tr>\n",
       "    <tr>\n",
       "      <th>3</th>\n",
       "      <td>1</td>\n",
       "      <td>37</td>\n",
       "      <td>College</td>\n",
       "      <td>0</td>\n",
       "      <td>0</td>\n",
       "      <td>0</td>\n",
       "      <td>0</td>\n",
       "      <td>1</td>\n",
       "      <td>0</td>\n",
       "      <td>195</td>\n",
       "      <td>141.0</td>\n",
       "      <td>84.0</td>\n",
       "      <td>25.66</td>\n",
       "      <td>83</td>\n",
       "      <td>117</td>\n",
       "      <td>0</td>\n",
       "    </tr>\n",
       "    <tr>\n",
       "      <th>4</th>\n",
       "      <td>1</td>\n",
       "      <td>39</td>\n",
       "      <td>Some high school</td>\n",
       "      <td>1</td>\n",
       "      <td>40</td>\n",
       "      <td>0</td>\n",
       "      <td>0</td>\n",
       "      <td>0</td>\n",
       "      <td>0</td>\n",
       "      <td>251</td>\n",
       "      <td>115.0</td>\n",
       "      <td>77.0</td>\n",
       "      <td>24.01</td>\n",
       "      <td>65</td>\n",
       "      <td>98</td>\n",
       "      <td>0</td>\n",
       "    </tr>\n",
       "  </tbody>\n",
       "</table>\n",
       "</div>"
      ],
      "text/plain": [
       "   male  age         education  currentSmoker  cigsPerDay  BPMeds  \\\n",
       "0     0   47  Some high school              1          40       0   \n",
       "1     1   48   High school/GED              1          17       0   \n",
       "2     0   59  Some high school              0           0       0   \n",
       "3     1   37           College              0           0       0   \n",
       "4     1   39  Some high school              1          40       0   \n",
       "\n",
       "   prevalentStroke  prevalentHyp  diabetes  totChol  sysBP  diaBP    BMI  \\\n",
       "0                0             0         0      221  144.0   91.0  35.78   \n",
       "1                0             0         0      218  113.0   79.0  27.33   \n",
       "2                0             1         0      254  181.0  101.0  24.67   \n",
       "3                0             1         0      195  141.0   84.0  25.66   \n",
       "4                0             0         0      251  115.0   77.0  24.01   \n",
       "\n",
       "   heartRate  glucose  TenYearCHD  \n",
       "0         85       66           0  \n",
       "1         62       73           0  \n",
       "2         76       68           0  \n",
       "3         83      117           0  \n",
       "4         65       98           0  "
      ]
     },
     "execution_count": 2,
     "metadata": {},
     "output_type": "execute_result"
    }
   ],
   "source": [
    "import numpy as np\n",
    "import pandas as pd\n",
    "import statsmodels.formula.api as smf\n",
    "from sklearn.model_selection import train_test_split\n",
    "\n",
    "farm = pd.read_csv('framingham_train.csv')\n",
    "farm_test = pd.read_csv('framingham_test.csv')\n",
    "\n",
    "# farm.info()\n",
    "farm.head()"
   ]
  },
  {
   "cell_type": "code",
   "execution_count": 3,
   "metadata": {},
   "outputs": [
    {
     "name": "stdout",
     "output_type": "stream",
     "text": [
      "Optimization terminated successfully.\n",
      "         Current function value: 0.378126\n",
      "         Iterations 7\n",
      "                           Logit Regression Results                           \n",
      "==============================================================================\n",
      "Dep. Variable:             TenYearCHD   No. Observations:                 2560\n",
      "Model:                          Logit   Df Residuals:                     2542\n",
      "Method:                           MLE   Df Model:                           17\n",
      "Date:                Fri, 12 Mar 2021   Pseudo R-squ.:                  0.1139\n",
      "Time:                        11:16:27   Log-Likelihood:                -968.00\n",
      "converged:                       True   LL-Null:                       -1092.5\n",
      "Covariance Type:            nonrobust   LLR p-value:                 3.382e-43\n",
      "===============================================================================================================\n",
      "                                                  coef    std err          z      P>|z|      [0.025      0.975]\n",
      "---------------------------------------------------------------------------------------------------------------\n",
      "Intercept                                      -7.2609      0.837     -8.678      0.000      -8.901      -5.621\n",
      "education[T.High school/GED]                   -0.0131      0.221     -0.059      0.953      -0.446       0.420\n",
      "education[T.Some college/vocational school]    -0.1185      0.249     -0.476      0.634      -0.606       0.369\n",
      "education[T.Some high school]                   0.2273      0.207      1.098      0.272      -0.178       0.633\n",
      "male                                            0.5732      0.130      4.425      0.000       0.319       0.827\n",
      "age                                             0.0552      0.008      6.913      0.000       0.040       0.071\n",
      "currentSmoker                                   0.0144      0.188      0.076      0.939      -0.355       0.384\n",
      "cigsPerDay                                      0.0169      0.008      2.217      0.027       0.002       0.032\n",
      "BPMeds                                          0.0590      0.291      0.203      0.839      -0.512       0.630\n",
      "prevalentStroke                                -0.0280      0.695     -0.040      0.968      -1.391       1.335\n",
      "prevalentHyp                                    0.3388      0.165      2.054      0.040       0.015       0.662\n",
      "diabetes                                        0.4188      0.387      1.082      0.279      -0.340       1.177\n",
      "totChol                                         0.0009      0.001      0.714      0.475      -0.002       0.004\n",
      "sysBP                                           0.0180      0.005      3.912      0.000       0.009       0.027\n",
      "diaBP                                          -0.0097      0.007     -1.302      0.193      -0.024       0.005\n",
      "BMI                                             0.0106      0.015      0.694      0.488      -0.019       0.040\n",
      "heartRate                                      -0.0068      0.005     -1.333      0.183      -0.017       0.003\n",
      "glucose                                         0.0048      0.003      1.828      0.068      -0.000       0.010\n",
      "===============================================================================================================\n"
     ]
    }
   ],
   "source": [
    "logreg = smf.logit(formula = 'TenYearCHD ~ male + age + education + currentSmoker + cigsPerDay + BPMeds + prevalentStroke + prevalentHyp + diabetes + totChol + sysBP + diaBP + BMI + heartRate + glucose',\n",
    "                       data = farm).fit()\n",
    "print(logreg.summary())"
   ]
  },
  {
   "cell_type": "markdown",
   "metadata": {},
   "source": [
    "## Part A\n",
    "### i) \n",
    "The fitted logistic regression model is TenYearCHD = 1 / (1 + exp(-(-7.2609 + -0.0131*education[High school/GED] + -0.1185*education[Some college/vocational school] + 0.2273*education[Some high school] + 0.5732*male + 0.0552*age + 0.0144*currentSmoker + 0.0169*cigsPerDay + 0.0590*BPMeds + -0.0280*prevalentStroke + 0.3388*prevalentHyp + 0.4188*diabetes + 0.0009*totChol + 0.0180*sysBP + -0.0097*diaBP + 0.0106*BMI + -0.0068*heartRate + 0.0048*glucose)))\n",
    "\n",
    "### ii) \n",
    "The most important rist factors for CHD risk identified by the model are male (sex), age, cigsPerDay, prevalentHyp, sysBP. These are the variables with p-value less than 0.05. If a patient is male, it multiplies the odds of log(TenYearCHD) by exp(0.5732) = 1.774. This means that a male is more likely to develop CHD than a female.\n",
    "\n",
    "### iii) \n",
    "Find threshold value of p_bar (breakeven point): 500000(p/5) + 50000(1-p/5) = 450000p. Solve to get p = 5/36 = 0.139. The threshold of prescribe medication (high risk) and don't prescribe medication (low risk) is 5/36.\n",
    "\n",
    "### iv) \n",
    "The model's accuracy on the test set is 0.623; this is the probability that the classifier correctly classifies a new observation as high or low risk. \n",
    "\n",
    "The True Positive Rate (TPR) is 0.683; this is the proportion of high risk people (who developed CHD) that we correctly identified as high risk (getting CHD).\n",
    "\n",
    "The False Positive Rate (FPR) is 0.388; this is the proportion of people who are low risk (didn't developed CHD) that were incorrectly identified as high risk (developing CHD).\n"
   ]
  },
  {
   "cell_type": "code",
   "execution_count": 4,
   "metadata": {},
   "outputs": [
    {
     "name": "stdout",
     "output_type": "stream",
     "text": [
      "Confusion Matrix : \n",
      " [[570 361]\n",
      " [ 53 114]]\n"
     ]
    }
   ],
   "source": [
    "y_prob = logreg.predict(farm_test)\n",
    "y_pred = pd.Series([1 if x > 5/36 else 0 for x in y_prob], index=y_prob.index)\n",
    "\n",
    "from sklearn.metrics import confusion_matrix\n",
    "y_test = farm_test['TenYearCHD']\n",
    "\n",
    "cm = confusion_matrix(y_test, y_pred)\n",
    "print (\"Confusion Matrix : \\n\", cm) "
   ]
  },
  {
   "cell_type": "code",
   "execution_count": 4,
   "metadata": {},
   "outputs": [
    {
     "data": {
      "text/plain": [
       "(0.6229508196721312, 0.6826347305389222, 0.3877551020408163)"
      ]
     },
     "execution_count": 4,
     "metadata": {},
     "output_type": "execute_result"
    }
   ],
   "source": [
    "accuracy = (570 + 114) / 1098 #sum(y_test == y_pred) / 2560\n",
    "TPR = 114 / (53 + 114)\n",
    "FPR = 361 / (570 + 361)\n",
    "accuracy, TPR, FPR"
   ]
  },
  {
   "cell_type": "markdown",
   "metadata": {},
   "source": [
    "### v) \n",
    "Assuming that CHD outcomes aren't affected by the treatment decision, the economic cost per patient is $90,072.86. However, this assumption isn't reasonable since the treatment decision decreases the probability of developing CHD by 80\\%, which would reduce the economic cost by a factor of 10. Thus the treatment decision has a big effect on the cost per patient.\n",
    "\n",
    "Assuming that CHD outcomes are affected by the treatment decision, the economic cost per patient is $52695.81"
   ]
  },
  {
   "cell_type": "code",
   "execution_count": 5,
   "metadata": {},
   "outputs": [
    {
     "data": {
      "text/plain": [
       "(90072.8597449909, 52695.81056466302)"
      ]
     },
     "execution_count": 5,
     "metadata": {},
     "output_type": "execute_result"
    }
   ],
   "source": [
    "#CHD outcomes ARE NOT affected by the treatment decision\n",
    "total_cost = 114*500000 + 361*50000 + 53*450000 + 570*0\n",
    "cost_per_patient = total_cost / 1098\n",
    "\n",
    "\n",
    "#CHD outcomes ARE affected by the treatment decision\n",
    "med_total_cost = 114*0.2*500000 + (361 + 114*.8)*50000 + 53*450000 + 570*0\n",
    "med_cost_per_patient = med_total_cost / 1098\n",
    "\n",
    "cost_per_patient, med_cost_per_patient"
   ]
  },
  {
   "cell_type": "markdown",
   "metadata": {},
   "source": [
    "### vi)\n",
    "The baseline model predicts that none of the patients 1098 are at high risk. The accuracy of the baseline is 0.848; the TPR and FPR are both zero. The baseline expected economic cost per patient is $68,442.62. This is higher than the cost per patient from part (v) when assuming that CHD outcomes are affected by the treatment decision."
   ]
  },
  {
   "cell_type": "code",
   "execution_count": 6,
   "metadata": {},
   "outputs": [
    {
     "data": {
      "text/plain": [
       "(0.8479052823315119, 0.0, 0.0, 68442.62295081967)"
      ]
     },
     "execution_count": 6,
     "metadata": {},
     "output_type": "execute_result"
    }
   ],
   "source": [
    "base_accuracy = (570 + 361) / 1098\n",
    "base_TPR = 0 / (53 + 114)\n",
    "base_FPR = 0 / (570 + 114)\n",
    "base_total_cost = 450000*(53 + 114) + 0*(570 + 114)\n",
    "base_cost_per_patient = base_total_cost / 1098\n",
    "\n",
    "base_accuracy, base_TPR, base_FPR, base_cost_per_patient"
   ]
  },
  {
   "cell_type": "markdown",
   "metadata": {},
   "source": [
    "### vii)\n",
    "The probability that his patient will experience CHD in the next ten years is 0.212. Since this is greater than the threshold of 0.139, the physcian should prescribe the preventative medication for this patient."
   ]
  },
  {
   "cell_type": "code",
   "execution_count": 7,
   "metadata": {},
   "outputs": [
    {
     "data": {
      "text/plain": [
       "0.2199255986982815"
      ]
     },
     "execution_count": 7,
     "metadata": {},
     "output_type": "execute_result"
    }
   ],
   "source": [
    "pTenYearCHD = 1 / (1 + np.exp(-(-7.2609 + -0.0131*0 + -0.1185*0 + 0.2273*1 + 0.5732*1 + 0.0552*49 + 0.0144*1 + 0.0169*10 + 0.0590*0 + -0.0280*0 + 0.3388*1 + 0.4188*0 + 0.0009*197 + 0.0180*140 + -0.0097*100 + 0.0106*28 + -0.0068*62 + 0.0048*76)))\n",
    "pTenYearCHD"
   ]
  },
  {
   "cell_type": "markdown",
   "metadata": {},
   "source": [
    "## Part B\n",
    "The ROC curve for my logistic regression model is shown below. The ideal ROC curve has a high TRP and low FPR simultaneously, which this model's curve is close to. The area under the curve (AUC) is 0.73; this is the probability that our model would be able to distinguish between a randomly selected patient who is positive for CHD and a randomly selected patient who is negative for CHD. AUC is a unit-free measure of model quality that is used to evaluate the overall quality of a logistic regression model; the maximum is 1."
   ]
  },
  {
   "cell_type": "code",
   "execution_count": 8,
   "metadata": {},
   "outputs": [],
   "source": [
    "y_train = farm['TenYearCHD']\n",
    "X_train = farm.drop(['TenYearCHD'], axis=1)\n",
    "\n",
    "y_test = farm_test['TenYearCHD']\n",
    "X_test = farm_test.drop(['TenYearCHD'], axis=1)"
   ]
  },
  {
   "cell_type": "code",
   "execution_count": 10,
   "metadata": {},
   "outputs": [
    {
     "data": {
      "image/png": "[encoded data removed]",
      "text/plain": [
       "<Figure size 576x432 with 1 Axes>"
      ]
     },
     "metadata": {
      "needs_background": "light"
     },
     "output_type": "display_data"
    }
   ],
   "source": [
    "import matplotlib.pyplot as plt\n",
    "from sklearn.metrics import roc_curve, auc\n",
    "\n",
    "fpr, tpr, _ = roc_curve(y_test, y_prob)\n",
    "roc_auc = auc(fpr, tpr)\n",
    "\n",
    "plt.figure(figsize=(8, 6))\n",
    "plt.title('ROC Curve', fontsize=18)\n",
    "plt.xlabel('FPR', fontsize=16)\n",
    "plt.ylabel('TPR', fontsize=16)\n",
    "plt.xlim([-0.01, 1.00])\n",
    "plt.ylim([-0.01, 1.01])\n",
    "plt.plot(fpr, tpr, lw=3, label='Logistic Regression (area = {:0.2f})'.format(roc_auc))\n",
    "plt.plot([0, 1], [0, 1], color='navy', lw=3, linestyle='--', label='Naive Baseline (area = 0.50)')\n",
    "plt.legend(loc='lower right', fontsize=14)\n",
    "plt.show()"
   ]
  },
  {
   "cell_type": "markdown",
   "metadata": {},
   "source": [
    "## Part C\n",
    "Using the threshold value of p_bar = 5/36 from part (a), solve (c + 300,000)*(p/5) + c*(1-p/5) = 300,000*p + 0*(1-p) to get the optimal strategy for patients to 'self select'.\n",
    "The insurance comapny should charge a co-payment of c = $33,333.33."
   ]
  },
  {
   "cell_type": "markdown",
   "metadata": {},
   "source": [
    "## Part D\n",
    "Yes, the analysis of the co-payment raises ethical concerns because it forces low-income patients to forego the medication if they can't afford the co-payment, which is pretty expensive. Wealthier people will have greater access to the medication simply because they can afford it. One way to address this is to have doctors decide which patients get the medication based on their risk for CHD– use the classification model that we just built and give the medication to patients with the highest predicted risk."
   ]
  }
 ],
 "metadata": {
  "kernelspec": {
   "display_name": "Python 3 (ipykernel)",
   "language": "python",
   "name": "python3"
  },
  "language_info": {
   "codemirror_mode": {
    "name": "ipython",
    "version": 3
   },
   "file_extension": ".py",
   "mimetype": "text/x-python",
   "name": "python",
   "nbconvert_exporter": "python",
   "pygments_lexer": "ipython3",
   "version": "3.9.13"
  }
 },
 "nbformat": 4,
 "nbformat_minor": 4
}
