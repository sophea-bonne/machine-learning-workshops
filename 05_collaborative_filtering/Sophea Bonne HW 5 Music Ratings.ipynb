{
 "cells": [
  {
   "cell_type": "markdown",
   "metadata": {},
   "source": [
    "# Music Ratings"
   ]
  },
  {
   "cell_type": "code",
   "execution_count": 1,
   "metadata": {},
   "outputs": [],
   "source": [
    "import numpy as np\n",
    "import pandas as pd"
   ]
  },
  {
   "cell_type": "markdown",
   "metadata": {},
   "source": [
    "## 1. Data Loading"
   ]
  },
  {
   "cell_type": "code",
   "execution_count": 2,
   "metadata": {},
   "outputs": [],
   "source": [
    "music_train=pd.read_csv(\"MusicRatingsTrain.csv\", index_col = 0)\n",
    "music_valA=pd.read_csv(\"MusicRatingsValidationA.csv\", index_col = 0)\n",
    "music_valB=pd.read_csv(\"MusicRatingsValidationB.csv\", index_col = 0)\n",
    "music_test=pd.read_csv(\"MusicRatingsTest.csv\", index_col = 0)"
   ]
  },
  {
   "cell_type": "markdown",
   "metadata": {},
   "source": [
    "## Part A"
   ]
  },
  {
   "cell_type": "code",
   "execution_count": 3,
   "metadata": {},
   "outputs": [
    {
     "name": "stdout",
     "output_type": "stream",
     "text": [
      "Number of Unique Songs in Training Dataset:  807\n",
      "Number of Unique Users in Training Dataset:  2421\n",
      "Summary Statistics of Ratings:\n"
     ]
    },
    {
     "data": {
      "text/html": [
       "<div>\n",
       "<style scoped>\n",
       "    .dataframe tbody tr th:only-of-type {\n",
       "        vertical-align: middle;\n",
       "    }\n",
       "\n",
       "    .dataframe tbody tr th {\n",
       "        vertical-align: top;\n",
       "    }\n",
       "\n",
       "    .dataframe thead th {\n",
       "        text-align: right;\n",
       "    }\n",
       "</style>\n",
       "<table border=\"1\" class=\"dataframe\">\n",
       "  <thead>\n",
       "    <tr style=\"text-align: right;\">\n",
       "      <th></th>\n",
       "      <th>rating</th>\n",
       "    </tr>\n",
       "  </thead>\n",
       "  <tbody>\n",
       "    <tr>\n",
       "      <th>count</th>\n",
       "      <td>245997.000000</td>\n",
       "    </tr>\n",
       "    <tr>\n",
       "      <th>mean</th>\n",
       "      <td>1.321962</td>\n",
       "    </tr>\n",
       "    <tr>\n",
       "      <th>std</th>\n",
       "      <td>0.459894</td>\n",
       "    </tr>\n",
       "    <tr>\n",
       "      <th>min</th>\n",
       "      <td>1.000000</td>\n",
       "    </tr>\n",
       "    <tr>\n",
       "      <th>25%</th>\n",
       "      <td>1.000000</td>\n",
       "    </tr>\n",
       "    <tr>\n",
       "      <th>50%</th>\n",
       "      <td>1.000000</td>\n",
       "    </tr>\n",
       "    <tr>\n",
       "      <th>75%</th>\n",
       "      <td>1.494918</td>\n",
       "    </tr>\n",
       "    <tr>\n",
       "      <th>max</th>\n",
       "      <td>4.768656</td>\n",
       "    </tr>\n",
       "  </tbody>\n",
       "</table>\n",
       "</div>"
      ],
      "text/plain": [
       "              rating\n",
       "count  245997.000000\n",
       "mean        1.321962\n",
       "std         0.459894\n",
       "min         1.000000\n",
       "25%         1.000000\n",
       "50%         1.000000\n",
       "75%         1.494918\n",
       "max         4.768656"
      ]
     },
     "execution_count": 3,
     "metadata": {},
     "output_type": "execute_result"
    }
   ],
   "source": [
    "print('Number of Unique Songs in Training Dataset: ', len(np.unique(music_train['songID'])))\n",
    "print('Number of Unique Users in Training Dataset: ', len(np.unique(music_train.index)))\n",
    "print('Summary Statistics of Ratings:')\n",
    "music_train[['rating']].describe()"
   ]
  },
  {
   "cell_type": "markdown",
   "metadata": {},
   "source": [
    "## Part B"
   ]
  },
  {
   "cell_type": "markdown",
   "metadata": {},
   "source": [
    "### i)"
   ]
  },
  {
   "cell_type": "code",
   "execution_count": 4,
   "metadata": {},
   "outputs": [
    {
     "name": "stdout",
     "output_type": "stream",
     "text": [
      "Number of Total Parameters in Model:  3228\n",
      "Number of Obervations to Train Model:  245997\n"
     ]
    }
   ],
   "source": [
    "print('Number of Total Parameters in Model: ', 807 + 2421) # number of users + number of songs\n",
    "print('Number of Obervations to Train Model: ', music_train.shape[0])"
   ]
  },
  {
   "cell_type": "markdown",
   "metadata": {},
   "source": [
    "## ii)"
   ]
  },
  {
   "cell_type": "markdown",
   "metadata": {},
   "source": [
    "### ii.1 Convert dataframe to matrices"
   ]
  },
  {
   "cell_type": "code",
   "execution_count": 5,
   "metadata": {},
   "outputs": [
    {
     "data": {
      "text/plain": [
       "245997"
      ]
     },
     "execution_count": 5,
     "metadata": {},
     "output_type": "execute_result"
    }
   ],
   "source": [
    "# Training Set\n",
    "music_train = music_train.sort_values(by = ['userID', 'songID'])\n",
    "music_train_df = music_train.pivot_table(index=\"userID\", columns = \"songID\", values = \"rating\")\n",
    "music_train_mat = music_train_df.to_numpy()\n",
    "music_train_mat\n",
    "\n",
    "# create a mask for the subset of the data\n",
    "music_train_mask = ~np.isnan(music_train_mat)\n",
    "np.sum(music_train_mask)"
   ]
  },
  {
   "cell_type": "markdown",
   "metadata": {},
   "source": [
    "Some *users* are not included in the validation or test set, due to the small set size. Therefore, we need to merge the validation and test set with the complete list of users."
   ]
  },
  {
   "cell_type": "code",
   "execution_count": 6,
   "metadata": {},
   "outputs": [
    {
     "data": {
      "text/html": [
       "<div>\n",
       "<style scoped>\n",
       "    .dataframe tbody tr th:only-of-type {\n",
       "        vertical-align: middle;\n",
       "    }\n",
       "\n",
       "    .dataframe tbody tr th {\n",
       "        vertical-align: top;\n",
       "    }\n",
       "\n",
       "    .dataframe thead th {\n",
       "        text-align: right;\n",
       "    }\n",
       "</style>\n",
       "<table border=\"1\" class=\"dataframe\">\n",
       "  <thead>\n",
       "    <tr style=\"text-align: right;\">\n",
       "      <th>songID</th>\n",
       "      <th>userID</th>\n",
       "    </tr>\n",
       "  </thead>\n",
       "  <tbody>\n",
       "    <tr>\n",
       "      <th>0</th>\n",
       "      <td>1</td>\n",
       "    </tr>\n",
       "    <tr>\n",
       "      <th>1</th>\n",
       "      <td>2</td>\n",
       "    </tr>\n",
       "    <tr>\n",
       "      <th>2</th>\n",
       "      <td>3</td>\n",
       "    </tr>\n",
       "  </tbody>\n",
       "</table>\n",
       "</div>"
      ],
      "text/plain": [
       "songID  userID\n",
       "0            1\n",
       "1            2\n",
       "2            3"
      ]
     },
     "execution_count": 6,
     "metadata": {},
     "output_type": "execute_result"
    }
   ],
   "source": [
    "user_df = music_train_df.reset_index()[['userID']]\n",
    "user_df.head(3)"
   ]
  },
  {
   "cell_type": "code",
   "execution_count": 7,
   "metadata": {},
   "outputs": [
    {
     "data": {
      "text/plain": [
       "14471"
      ]
     },
     "execution_count": 7,
     "metadata": {},
     "output_type": "execute_result"
    }
   ],
   "source": [
    "# Validation Set A\n",
    "\n",
    "music_valA = music_valA.sort_values(by = ['userID', 'songID'])\n",
    "music_valA_df = music_valA.pivot_table(index=\"userID\", columns = \"songID\", values = \"rating\")\n",
    "music_valA_df = pd.merge(user_df, music_valA_df.reset_index(), how = 'outer', on = 'userID')\n",
    "music_valA_df = music_valA_df.set_index('userID')\n",
    "music_valA_mat = music_valA_df.to_numpy()\n",
    "music_valA_mat\n",
    "\n",
    "# create a mask for the subset of the data\n",
    "music_valA_mask = ~np.isnan(music_valA_mat)\n",
    "np.sum(music_valA_mask)\n",
    "\n",
    "# -------\n",
    "\n",
    "# Validation Set B\n",
    "\n",
    "music_valB = music_valB.sort_values(by = ['userID', 'songID'])\n",
    "music_valB_df = music_valB.pivot_table(index=\"userID\", columns = \"songID\", values = \"rating\")\n",
    "music_valB_df = pd.merge(user_df, music_valB_df.reset_index(), how = 'outer', on = 'userID')\n",
    "music_valB_df = music_valB_df.set_index('userID')\n",
    "music_valB_mat = music_valB_df.to_numpy()\n",
    "music_valB_mat\n",
    "\n",
    "# create a mask for the subset of the data\n",
    "music_valB_mask = ~np.isnan(music_valB_mat)\n",
    "np.sum(music_valB_mask)"
   ]
  },
  {
   "cell_type": "code",
   "execution_count": 8,
   "metadata": {},
   "outputs": [
    {
     "data": {
      "text/plain": [
       "14471"
      ]
     },
     "execution_count": 8,
     "metadata": {},
     "output_type": "execute_result"
    }
   ],
   "source": [
    "# Test Set\n",
    "\n",
    "music_test = music_test.sort_values(by = ['userID', 'songID'])\n",
    "music_test_df = music_test.pivot_table(index=\"userID\", columns = \"songID\", values = \"rating\")\n",
    "music_test_df = pd.merge(user_df, music_test_df.reset_index(), how = 'outer', on = 'userID')\n",
    "music_test_df = music_test_df.set_index('userID')\n",
    "music_test_mat = music_test_df.to_numpy()\n",
    "music_test_mat\n",
    "\n",
    "# create a mask for the subset of the data\n",
    "music_test_mask = ~np.isnan(music_test_mat)\n",
    "np.sum(music_test_mask)"
   ]
  },
  {
   "cell_type": "code",
   "execution_count": 9,
   "metadata": {},
   "outputs": [
    {
     "data": {
      "text/html": [
       "<div>\n",
       "<style scoped>\n",
       "    .dataframe tbody tr th:only-of-type {\n",
       "        vertical-align: middle;\n",
       "    }\n",
       "\n",
       "    .dataframe tbody tr th {\n",
       "        vertical-align: top;\n",
       "    }\n",
       "\n",
       "    .dataframe thead th {\n",
       "        text-align: right;\n",
       "    }\n",
       "</style>\n",
       "<table border=\"1\" class=\"dataframe\">\n",
       "  <thead>\n",
       "    <tr style=\"text-align: right;\">\n",
       "      <th></th>\n",
       "      <th>songID</th>\n",
       "      <th>rating</th>\n",
       "      <th>songName</th>\n",
       "      <th>year</th>\n",
       "      <th>artist</th>\n",
       "      <th>genre</th>\n",
       "    </tr>\n",
       "    <tr>\n",
       "      <th>userID</th>\n",
       "      <th></th>\n",
       "      <th></th>\n",
       "      <th></th>\n",
       "      <th></th>\n",
       "      <th></th>\n",
       "      <th></th>\n",
       "    </tr>\n",
       "  </thead>\n",
       "  <tbody>\n",
       "    <tr>\n",
       "      <th>1</th>\n",
       "      <td>7</td>\n",
       "      <td>1.989836</td>\n",
       "      <td>Halo</td>\n",
       "      <td>2008</td>\n",
       "      <td>Beyonce</td>\n",
       "      <td>Pop</td>\n",
       "    </tr>\n",
       "    <tr>\n",
       "      <th>1</th>\n",
       "      <td>753</td>\n",
       "      <td>1.784426</td>\n",
       "      <td>Bitter Sweet Symphony</td>\n",
       "      <td>1997</td>\n",
       "      <td>The Verve</td>\n",
       "      <td>Pop</td>\n",
       "    </tr>\n",
       "    <tr>\n",
       "      <th>2</th>\n",
       "      <td>72</td>\n",
       "      <td>1.784426</td>\n",
       "      <td>Teeth</td>\n",
       "      <td>2009</td>\n",
       "      <td>Lady GaGa</td>\n",
       "      <td>Pop</td>\n",
       "    </tr>\n",
       "  </tbody>\n",
       "</table>\n",
       "</div>"
      ],
      "text/plain": [
       "        songID    rating               songName  year     artist genre\n",
       "userID                                                                \n",
       "1            7  1.989836                   Halo  2008    Beyonce   Pop\n",
       "1          753  1.784426  Bitter Sweet Symphony  1997  The Verve   Pop\n",
       "2           72  1.784426                  Teeth  2009  Lady GaGa   Pop"
      ]
     },
     "execution_count": 9,
     "metadata": {},
     "output_type": "execute_result"
    }
   ],
   "source": [
    "music_test.head(3)"
   ]
  },
  {
   "cell_type": "markdown",
   "metadata": {},
   "source": [
    "### ii.2 Basic Analysis: BiScaler Centering"
   ]
  },
  {
   "cell_type": "code",
   "execution_count": 10,
   "metadata": {},
   "outputs": [],
   "source": [
    "from fancyimpute import BiScaler"
   ]
  },
  {
   "cell_type": "code",
   "execution_count": 15,
   "metadata": {},
   "outputs": [],
   "source": [
    "music_biscaler = BiScaler(scale_rows=False, scale_columns=False, verbose=False)\n",
    "music_train_mat_centered = music_biscaler.fit_transform(music_train_mat)"
   ]
  },
  {
   "cell_type": "code",
   "execution_count": 12,
   "metadata": {},
   "outputs": [
    {
     "data": {
      "text/plain": [
       "(2421, 807)"
      ]
     },
     "execution_count": 12,
     "metadata": {},
     "output_type": "execute_result"
    }
   ],
   "source": [
    "import copy #fill NaN values with 0\n",
    "music_centered_0 = copy.copy(music_train_mat_centered)\n",
    "music_centered_0[np.isnan(music_centered_0)]=0\n",
    "music_centered_0.shape"
   ]
  },
  {
   "cell_type": "code",
   "execution_count": 13,
   "metadata": {},
   "outputs": [
    {
     "data": {
      "text/plain": [
       "array([[1.34450503, 1.51787035, 1.69263387, ..., 1.55709616, 1.41842513,\n",
       "        1.40129053],\n",
       "       [1.4868899 , 1.98983574, 1.83501874, ..., 1.69948103, 1.56081   ,\n",
       "        1.5436754 ],\n",
       "       [0.98649909, 1.15986441, 1.33462793, ..., 1.19909023, 1.0604192 ,\n",
       "        1.0432846 ],\n",
       "       ...,\n",
       "       [1.10753272, 1.28089804, 1.45566156, ..., 1.32012386, 1.18145283,\n",
       "        1.16431823],\n",
       "       [1.01559836, 1.18896367, 1.3637272 , ..., 1.22818949, 1.08951846,\n",
       "        1.07238386],\n",
       "       [1.03554825, 1.49491787, 1.49491787, ..., 1.24813938, 1.10946835,\n",
       "        1.09233375]])"
      ]
     },
     "execution_count": 13,
     "metadata": {},
     "output_type": "execute_result"
    }
   ],
   "source": [
    "music_BiScaler_filled = music_biscaler.inverse_transform(music_centered_0) #Sophea fix: what does this do?\n",
    "music_BiScaler_filled"
   ]
  },
  {
   "cell_type": "markdown",
   "metadata": {},
   "source": [
    "### ii. Top Three Songs"
   ]
  },
  {
   "cell_type": "code",
   "execution_count": 14,
   "metadata": {},
   "outputs": [
    {
     "data": {
      "text/html": [
       "<div>\n",
       "<style scoped>\n",
       "    .dataframe tbody tr th:only-of-type {\n",
       "        vertical-align: middle;\n",
       "    }\n",
       "\n",
       "    .dataframe tbody tr th {\n",
       "        vertical-align: top;\n",
       "    }\n",
       "\n",
       "    .dataframe thead th {\n",
       "        text-align: right;\n",
       "    }\n",
       "</style>\n",
       "<table border=\"1\" class=\"dataframe\">\n",
       "  <thead>\n",
       "    <tr style=\"text-align: right;\">\n",
       "      <th></th>\n",
       "      <th>0</th>\n",
       "      <th>rating</th>\n",
       "      <th>songName</th>\n",
       "      <th>year</th>\n",
       "      <th>artist</th>\n",
       "      <th>genre</th>\n",
       "    </tr>\n",
       "    <tr>\n",
       "      <th>songID</th>\n",
       "      <th></th>\n",
       "      <th></th>\n",
       "      <th></th>\n",
       "      <th></th>\n",
       "      <th></th>\n",
       "      <th></th>\n",
       "    </tr>\n",
       "  </thead>\n",
       "  <tbody>\n",
       "    <tr>\n",
       "      <th>26</th>\n",
       "      <td>2.137063</td>\n",
       "      <td>3.451920</td>\n",
       "      <td>Undo</td>\n",
       "      <td>2001</td>\n",
       "      <td>Bjork</td>\n",
       "      <td>Rock</td>\n",
       "    </tr>\n",
       "    <tr>\n",
       "      <th>54</th>\n",
       "      <td>2.157841</td>\n",
       "      <td>3.451920</td>\n",
       "      <td>You're The One</td>\n",
       "      <td>1990</td>\n",
       "      <td>Dwight Yoakam</td>\n",
       "      <td>Country</td>\n",
       "    </tr>\n",
       "    <tr>\n",
       "      <th>439</th>\n",
       "      <td>2.038437</td>\n",
       "      <td>2.774262</td>\n",
       "      <td>Secrets</td>\n",
       "      <td>2009</td>\n",
       "      <td>OneRepublic</td>\n",
       "      <td>Rock</td>\n",
       "    </tr>\n",
       "  </tbody>\n",
       "</table>\n",
       "</div>"
      ],
      "text/plain": [
       "               0    rating        songName  year         artist    genre\n",
       "songID                                                                  \n",
       "26      2.137063  3.451920            Undo  2001          Bjork     Rock\n",
       "54      2.157841  3.451920  You're The One  1990  Dwight Yoakam  Country\n",
       "439     2.038437  2.774262         Secrets  2009    OneRepublic     Rock"
      ]
     },
     "execution_count": 14,
     "metadata": {},
     "output_type": "execute_result"
    }
   ],
   "source": [
    "# Access the alpha (row_mean) and beta (column) values\n",
    "# print(music_biscaler.row_means)\n",
    "# print(music_biscaler.column_means)\n",
    "\n",
    "top_songs = pd.DataFrame(music_biscaler.column_means)\n",
    "top_songs.index = np.arange(1, len(top_songs) + 1)\n",
    "top_songs = top_songs.nlargest(3, columns = 0)\n",
    "top_songs.merge(music_train, left_index = True, right_on = 'songID').groupby('songID').first()"
   ]
  },
  {
   "cell_type": "markdown",
   "metadata": {},
   "source": [
    "The three most popular song IDs, songs, and artists are displayed in the above dataframe. The song indices are 26, 54, and 439. This answers refers to the 3 greatest beta_j coefficients in the model."
   ]
  },
  {
   "cell_type": "markdown",
   "metadata": {},
   "source": [
    "### iii. Top Three Users"
   ]
  },
  {
   "cell_type": "code",
   "execution_count": 15,
   "metadata": {},
   "outputs": [
    {
     "name": "stdout",
     "output_type": "stream",
     "text": [
      "Most Enthused User IDs:\n",
      " 1539    0.967014\n",
      "837     0.814727\n",
      "1568    0.794237\n",
      "dtype: float64\n"
     ]
    }
   ],
   "source": [
    "top_users = pd.Series(music_biscaler.row_means).nlargest(3) #users\n",
    "print('Most Enthused User IDs:\\n', top_users)"
   ]
  },
  {
   "cell_type": "markdown",
   "metadata": {},
   "source": [
    "### iv. Out-of-Sample Performance on Test Set"
   ]
  },
  {
   "cell_type": "code",
   "execution_count": 16,
   "metadata": {},
   "outputs": [],
   "source": [
    "def masked_mae(X_true, X_pred, mask):\n",
    "    masked_diff = X_true[mask] - X_pred[mask]\n",
    "    return np.mean(np.abs(masked_diff))\n",
    "\n",
    "def masked_mse(X_true, X_pred, mask):\n",
    "    masked_diff = X_true[mask] - X_pred[mask]\n",
    "    return np.mean(masked_diff ** 2)\n",
    "\n",
    "def OSR2(mse_model, mse_baseline):\n",
    "    return 1 - mse_model/mse_baseline"
   ]
  },
  {
   "cell_type": "code",
   "execution_count": 17,
   "metadata": {},
   "outputs": [
    {
     "name": "stdout",
     "output_type": "stream",
     "text": [
      "Biscale MAE 0.0747571775133017 \n",
      "Biscale RMSE 0.0985693901114982 \n",
      "Biscale R2 0.2702373901935097\n"
     ]
    }
   ],
   "source": [
    "music_test_mae = masked_mae(music_test_mat, music_BiScaler_filled, music_test_mask)\n",
    "print(\"Biscale MAE %s \" % (music_test_mae/4)) #Note that we normalize MAE and RMSE by the scale of the ratings, which is 5 - 1 = 4.\n",
    "\n",
    "music_test_mse = masked_mse(music_test_mat, music_BiScaler_filled, music_test_mask)\n",
    "print(\"Biscale RMSE %s \" % (np.sqrt(music_test_mse)/4))\n",
    "\n",
    "baseline_pred = np.mean(music_train['rating'])\n",
    "baseline_model = baseline_pred*np.ones(music_train_mat.shape)\n",
    "baseline_mse = masked_mse(music_test_mat, baseline_model, music_test_mask)\n",
    "print(\"Biscale R2 %s\" % OSR2(music_test_mse, baseline_mse))"
   ]
  },
  {
   "cell_type": "markdown",
   "metadata": {},
   "source": [
    "## Part C"
   ]
  },
  {
   "cell_type": "markdown",
   "metadata": {},
   "source": [
    "## i. "
   ]
  },
  {
   "cell_type": "code",
   "execution_count": 18,
   "metadata": {},
   "outputs": [
    {
     "name": "stdout",
     "output_type": "stream",
     "text": [
      "Total Number of Parameters including Low-Rank Model: k * 3228 + 3228\n",
      "Number of Obervations to Train Model:  245997\n"
     ]
    }
   ],
   "source": [
    "m = 807 # songs\n",
    "n = 2421 # users\n",
    "print('Total Number of Parameters including Low-Rank Model: k * 3228 +', m + n)\n",
    "print('Number of Obervations to Train Model: ', music_train.shape[0])"
   ]
  },
  {
   "cell_type": "markdown",
   "metadata": {},
   "source": [
    "## ii."
   ]
  },
  {
   "cell_type": "code",
   "execution_count": 19,
   "metadata": {
    "collapsed": true
   },
   "outputs": [
    {
     "name": "stdout",
     "output_type": "stream",
     "text": [
      "[SoftImpute] Max Singular Value of X_init = 35.403705\n",
      "[SoftImpute] Iter 1: observed MAE=0.276595 rank=5\n",
      "[SoftImpute] Iter 2: observed MAE=0.272222 rank=5\n",
      "[SoftImpute] Iter 3: observed MAE=0.269771 rank=5\n",
      "[SoftImpute] Iter 4: observed MAE=0.268023 rank=5\n",
      "[SoftImpute] Iter 5: observed MAE=0.266677 rank=5\n",
      "[SoftImpute] Iter 6: observed MAE=0.265593 rank=5\n",
      "[SoftImpute] Iter 7: observed MAE=0.264694 rank=5\n",
      "[SoftImpute] Iter 8: observed MAE=0.263930 rank=5\n",
      "[SoftImpute] Iter 9: observed MAE=0.263269 rank=5\n",
      "[SoftImpute] Iter 10: observed MAE=0.262688 rank=5\n",
      "[SoftImpute] Iter 11: observed MAE=0.262173 rank=5\n",
      "[SoftImpute] Iter 12: observed MAE=0.261714 rank=5\n",
      "[SoftImpute] Iter 13: observed MAE=0.261302 rank=5\n",
      "[SoftImpute] Iter 14: observed MAE=0.260932 rank=5\n",
      "[SoftImpute] Iter 15: observed MAE=0.260600 rank=5\n",
      "[SoftImpute] Iter 16: observed MAE=0.260301 rank=5\n",
      "[SoftImpute] Iter 17: observed MAE=0.260029 rank=5\n",
      "[SoftImpute] Iter 18: observed MAE=0.259782 rank=5\n",
      "[SoftImpute] Iter 19: observed MAE=0.259556 rank=5\n",
      "[SoftImpute] Iter 20: observed MAE=0.259349 rank=5\n",
      "[SoftImpute] Iter 21: observed MAE=0.259159 rank=5\n",
      "[SoftImpute] Iter 22: observed MAE=0.258985 rank=5\n",
      "[SoftImpute] Iter 23: observed MAE=0.258826 rank=5\n",
      "[SoftImpute] Iter 24: observed MAE=0.258678 rank=5\n",
      "[SoftImpute] Iter 25: observed MAE=0.258541 rank=5\n",
      "[SoftImpute] Iter 26: observed MAE=0.258414 rank=5\n",
      "[SoftImpute] Iter 27: observed MAE=0.258296 rank=5\n",
      "[SoftImpute] Iter 28: observed MAE=0.258187 rank=5\n",
      "[SoftImpute] Iter 29: observed MAE=0.258085 rank=5\n",
      "[SoftImpute] Iter 30: observed MAE=0.257990 rank=5\n",
      "[SoftImpute] Iter 31: observed MAE=0.257900 rank=5\n",
      "[SoftImpute] Iter 32: observed MAE=0.257817 rank=5\n",
      "[SoftImpute] Iter 33: observed MAE=0.257739 rank=5\n",
      "[SoftImpute] Iter 34: observed MAE=0.257666 rank=5\n",
      "[SoftImpute] Iter 35: observed MAE=0.257597 rank=5\n",
      "[SoftImpute] Iter 36: observed MAE=0.257532 rank=5\n",
      "[SoftImpute] Iter 37: observed MAE=0.257470 rank=5\n",
      "[SoftImpute] Iter 38: observed MAE=0.257412 rank=5\n",
      "[SoftImpute] Iter 39: observed MAE=0.257356 rank=5\n",
      "[SoftImpute] Iter 40: observed MAE=0.257304 rank=5\n",
      "[SoftImpute] Iter 41: observed MAE=0.257254 rank=5\n",
      "[SoftImpute] Iter 42: observed MAE=0.257207 rank=5\n",
      "[SoftImpute] Iter 43: observed MAE=0.257163 rank=5\n",
      "[SoftImpute] Iter 44: observed MAE=0.257120 rank=5\n",
      "[SoftImpute] Iter 45: observed MAE=0.257080 rank=5\n",
      "[SoftImpute] Iter 46: observed MAE=0.257042 rank=5\n",
      "[SoftImpute] Iter 47: observed MAE=0.257006 rank=5\n",
      "[SoftImpute] Iter 48: observed MAE=0.256971 rank=5\n",
      "[SoftImpute] Iter 49: observed MAE=0.256938 rank=5\n",
      "[SoftImpute] Iter 50: observed MAE=0.256906 rank=5\n",
      "[SoftImpute] Iter 51: observed MAE=0.256876 rank=5\n",
      "[SoftImpute] Iter 52: observed MAE=0.256847 rank=5\n",
      "[SoftImpute] Iter 53: observed MAE=0.256820 rank=5\n",
      "[SoftImpute] Iter 54: observed MAE=0.256793 rank=5\n",
      "[SoftImpute] Iter 55: observed MAE=0.256768 rank=5\n",
      "[SoftImpute] Iter 56: observed MAE=0.256744 rank=5\n",
      "[SoftImpute] Iter 57: observed MAE=0.256721 rank=5\n",
      "[SoftImpute] Iter 58: observed MAE=0.256698 rank=5\n",
      "[SoftImpute] Iter 59: observed MAE=0.256677 rank=5\n",
      "[SoftImpute] Iter 60: observed MAE=0.256656 rank=5\n",
      "[SoftImpute] Iter 61: observed MAE=0.256636 rank=5\n",
      "[SoftImpute] Iter 62: observed MAE=0.256616 rank=5\n",
      "[SoftImpute] Iter 63: observed MAE=0.256598 rank=5\n",
      "[SoftImpute] Iter 64: observed MAE=0.256580 rank=5\n",
      "[SoftImpute] Iter 65: observed MAE=0.256563 rank=5\n",
      "[SoftImpute] Iter 66: observed MAE=0.256547 rank=5\n",
      "[SoftImpute] Iter 67: observed MAE=0.256531 rank=5\n",
      "[SoftImpute] Iter 68: observed MAE=0.256515 rank=5\n",
      "[SoftImpute] Iter 69: observed MAE=0.256501 rank=5\n",
      "[SoftImpute] Iter 70: observed MAE=0.256487 rank=5\n",
      "[SoftImpute] Iter 71: observed MAE=0.256473 rank=5\n",
      "[SoftImpute] Iter 72: observed MAE=0.256460 rank=5\n",
      "[SoftImpute] Iter 73: observed MAE=0.256447 rank=5\n",
      "[SoftImpute] Iter 74: observed MAE=0.256434 rank=5\n",
      "[SoftImpute] Iter 75: observed MAE=0.256422 rank=5\n",
      "[SoftImpute] Iter 76: observed MAE=0.256411 rank=5\n",
      "[SoftImpute] Iter 77: observed MAE=0.256399 rank=5\n",
      "[SoftImpute] Iter 78: observed MAE=0.256388 rank=5\n",
      "[SoftImpute] Iter 79: observed MAE=0.256378 rank=5\n",
      "[SoftImpute] Iter 80: observed MAE=0.256367 rank=5\n",
      "[SoftImpute] Iter 81: observed MAE=0.256357 rank=5\n",
      "[SoftImpute] Iter 82: observed MAE=0.256347 rank=5\n",
      "[SoftImpute] Iter 83: observed MAE=0.256338 rank=5\n",
      "[SoftImpute] Iter 84: observed MAE=0.256328 rank=5\n",
      "[SoftImpute] Iter 85: observed MAE=0.256320 rank=5\n",
      "[SoftImpute] Iter 86: observed MAE=0.256311 rank=5\n",
      "[SoftImpute] Iter 87: observed MAE=0.256302 rank=5\n",
      "[SoftImpute] Iter 88: observed MAE=0.256294 rank=5\n",
      "[SoftImpute] Iter 89: observed MAE=0.256286 rank=5\n",
      "[SoftImpute] Iter 90: observed MAE=0.256278 rank=5\n",
      "[SoftImpute] Iter 91: observed MAE=0.256271 rank=5\n",
      "[SoftImpute] Iter 92: observed MAE=0.256264 rank=5\n",
      "[SoftImpute] Iter 93: observed MAE=0.256257 rank=5\n",
      "[SoftImpute] Iter 94: observed MAE=0.256251 rank=5\n",
      "[SoftImpute] Iter 95: observed MAE=0.256244 rank=5\n",
      "[SoftImpute] Iter 96: observed MAE=0.256238 rank=5\n",
      "[SoftImpute] Iter 97: observed MAE=0.256232 rank=5\n",
      "[SoftImpute] Iter 98: observed MAE=0.256226 rank=5\n",
      "[SoftImpute] Iter 99: observed MAE=0.256220 rank=5\n",
      "[SoftImpute] Iter 100: observed MAE=0.256214 rank=5\n",
      "[SoftImpute] Stopped after iteration 100 for lambda=0.708074\n"
     ]
    }
   ],
   "source": [
    "from fancyimpute import SoftImpute\n",
    "\n",
    "music_soft_imputer = SoftImpute(max_rank=5, verbose=True)\n",
    "music_centered_filled = music_soft_imputer.fit_transform(music_train_mat_centered)"
   ]
  },
  {
   "cell_type": "code",
   "execution_count": 20,
   "metadata": {},
   "outputs": [
    {
     "data": {
      "text/plain": [
       "array([[-0.06105436, -0.12093986, -0.19588552, ..., -0.16762857,\n",
       "         0.02217673, -0.0568743 ],\n",
       "       [ 0.07227458,  0.32958053, -0.36096664, ...,  0.05217069,\n",
       "         0.16989318,  0.18727827],\n",
       "       [-0.0321835 , -0.01191827,  0.08313618, ...,  0.01711593,\n",
       "        -0.00265758,  0.01637631],\n",
       "       ...,\n",
       "       [-0.02714709, -0.17576023,  0.05838181, ...,  0.17177322,\n",
       "        -0.11512138,  0.06901824],\n",
       "       [ 0.09173572, -0.0796666 , -0.27515093, ..., -0.04609432,\n",
       "         0.11200354, -0.17551012],\n",
       "       [-0.03976306,  0.28600431,  0.11124078, ...,  0.02673966,\n",
       "         0.00703386, -0.04294993]])"
      ]
     },
     "execution_count": 20,
     "metadata": {},
     "output_type": "execute_result"
    }
   ],
   "source": [
    "music_centered_filled"
   ]
  },
  {
   "cell_type": "code",
   "execution_count": 21,
   "metadata": {},
   "outputs": [
    {
     "data": {
      "text/plain": [
       "array([[1.28345067, 1.39693048, 1.49674834, ..., 1.38946759, 1.44060186,\n",
       "        1.34441623],\n",
       "       [1.55916447, 1.98983574, 1.47405209, ..., 1.75165172, 1.73070318,\n",
       "        1.73095367],\n",
       "       [1.        , 1.14794614, 1.41776411, ..., 1.21620616, 1.05776162,\n",
       "        1.05966091],\n",
       "       ...,\n",
       "       [1.08038564, 1.10513781, 1.51404337, ..., 1.49189708, 1.06633144,\n",
       "        1.23333647],\n",
       "       [1.10733408, 1.10929707, 1.08857627, ..., 1.18209517, 1.201522  ,\n",
       "        1.        ],\n",
       "       [1.        , 1.49491787, 1.49491787, ..., 1.27487904, 1.11650221,\n",
       "        1.04938383]])"
      ]
     },
     "execution_count": 21,
     "metadata": {},
     "output_type": "execute_result"
    }
   ],
   "source": [
    "music_SoftImpute_filled = music_biscaler.inverse_transform(music_centered_filled)\n",
    "music_SoftImpute_filled = np.clip(music_SoftImpute_filled, 1, 5)\n",
    "music_SoftImpute_filled"
   ]
  },
  {
   "cell_type": "code",
   "execution_count": 22,
   "metadata": {},
   "outputs": [
    {
     "name": "stdout",
     "output_type": "stream",
     "text": [
      "SoftImpute MAE 0.07090405508194468 \n",
      "SoftImpute RMSE 0.09656562777134375 \n",
      "SoftImpute R2 0.29960569586445585\n"
     ]
    }
   ],
   "source": [
    "music_test_mae = masked_mae(music_test_mat, music_SoftImpute_filled, music_test_mask)\n",
    "print(\"SoftImpute MAE %s \" % (music_test_mae/4)) #Note that we normalize MAE and RMSE by the scale of the ratings, which is 4.768656 - 1.\n",
    "\n",
    "music_test_mse = masked_mse(music_test_mat, music_SoftImpute_filled, music_test_mask)\n",
    "print(\"SoftImpute RMSE %s \" % (np.sqrt(music_test_mse)/4))\n",
    "\n",
    "baseline_pred = np.mean(music_train['rating'])\n",
    "baseline_model = baseline_pred*np.ones(music_train_mat.shape)\n",
    "baseline_mse = masked_mse(music_test_mat, baseline_model, music_test_mask)\n",
    "print(\"SoftImpute R2 %s\" % OSR2(music_test_mse, baseline_mse))"
   ]
  },
  {
   "cell_type": "markdown",
   "metadata": {},
   "source": [
    "### Cross-validation to choose the best number of Archetypal Users"
   ]
  },
  {
   "cell_type": "code",
   "execution_count": 23,
   "metadata": {},
   "outputs": [
    {
     "name": "stdout",
     "output_type": "stream",
     "text": [
      "iter 1 - Validation MAE 0.14939931545451687\n",
      "iter 2 - Validation MAE 0.14798156932661113\n",
      "iter 3 - Validation MAE 0.14867867314542774\n",
      "iter 4 - Validation MAE 0.14770607070241668\n",
      "iter 5 - Validation MAE 0.15070705009095883\n",
      "iter 6 - Validation MAE 0.15040976797135666\n",
      "iter 7 - Validation MAE 0.15225942257471425\n",
      "iter 8 - Validation MAE 0.15459409308445224\n",
      "iter 9 - Validation MAE 0.15677194070373965\n",
      "iter 10 - Validation MAE 0.15665071957052834\n",
      "iter 11 - Validation MAE 0.16217248308731627\n",
      "iter 12 - Validation MAE 0.16438387256052828\n",
      "iter 13 - Validation MAE 0.16474520021800787\n",
      "iter 14 - Validation MAE 0.1699229040805542\n",
      "iter 15 - Validation MAE 0.1720410027015302\n",
      "iter 16 - Validation MAE 0.17599756490744467\n",
      "iter 17 - Validation MAE 0.17468166235123264\n",
      "iter 18 - Validation MAE 0.17680722151571418\n",
      "iter 19 - Validation MAE 0.18004793219733525\n",
      "iter 20 - Validation MAE 0.18274626760180057\n",
      "Time:  546.5305814500025\n"
     ]
    }
   ],
   "source": [
    "import timeit\n",
    "start = timeit.default_timer()\n",
    "\n",
    "music_valA_mae_lst = []\n",
    "for i in range(20):\n",
    "    param_cv = i+1\n",
    "    music_soft_imputer_cv = SoftImpute(max_rank=param_cv, verbose=False)\n",
    "    music_centered_filled_cv = music_soft_imputer_cv.fit_transform(music_train_mat_centered)\n",
    "    music_filled_cv = music_biscaler.inverse_transform(music_centered_filled_cv)\n",
    "    music_filled_cv = np.clip(music_filled_cv, 1, 5)\n",
    "    music_valA_mae_cv = masked_mse(music_valA_mat, music_filled_cv, music_valA_mask)\n",
    "    music_valA_mae_lst.append(music_valA_mae_cv)\n",
    "    print('iter %s - Validation MAE %s' % (param_cv, music_valA_mae_cv))\n",
    "    \n",
    "stop = timeit.default_timer()\n",
    "print('Time: ', stop - start) #Took 7 minutes to run"
   ]
  },
  {
   "cell_type": "code",
   "execution_count": 24,
   "metadata": {},
   "outputs": [
    {
     "data": {
      "image/png": "[encoded data removed]",
      "text/plain": [
       "<Figure size 288x288 with 1 Axes>"
      ]
     },
     "metadata": {
      "needs_background": "light"
     },
     "output_type": "display_data"
    },
    {
     "name": "stdout",
     "output_type": "stream",
     "text": [
      "Optimial k Value:  4\n"
     ]
    }
   ],
   "source": [
    "import matplotlib.pyplot as plt\n",
    "x = range(1,21)\n",
    "y = music_valA_mae_lst\n",
    "plt.figure(figsize=(4, 4))\n",
    "plt.scatter(x, y, linewidth=2, color='black')\n",
    "plt.xlabel('Number of Archetypal Users', fontsize=16)\n",
    "plt.ylabel('Validation MAE', fontsize=16)\n",
    "plt.show()\n",
    "print('Optimial k Value: ', np.argmin(y)+1)"
   ]
  },
  {
   "cell_type": "markdown",
   "metadata": {},
   "source": [
    "Cross-validation shows that the MAE is minimized when k, the number of archetypes, is set to 4. This is also shown in the plot above. The corresponding minimum MAE is 0.14770607070241668."
   ]
  },
  {
   "cell_type": "markdown",
   "metadata": {},
   "source": [
    "## iii. Collaborative Filtering Model"
   ]
  },
  {
   "cell_type": "code",
   "execution_count": 25,
   "metadata": {},
   "outputs": [],
   "source": [
    "music_soft_imputer = SoftImpute(max_rank=4, verbose=False) #use the best k from part ii\n",
    "music_centered_filled = music_soft_imputer.fit_transform(music_train_mat_centered) #initiliazed music_train_mat_centered with BiScaler\n",
    "music_filled_matrix = music_biscaler.inverse_transform(music_centered_filled)\n",
    "music_filled_matrix = np.clip(music_filled_matrix, 1, 5)"
   ]
  },
  {
   "cell_type": "markdown",
   "metadata": {},
   "source": [
    "#### 1. Collaborative Filtering. Performance on Test Set"
   ]
  },
  {
   "cell_type": "code",
   "execution_count": 26,
   "metadata": {},
   "outputs": [
    {
     "name": "stdout",
     "output_type": "stream",
     "text": [
      "CF MAE 0.07063690502316015 \n",
      "CF RMSE 0.09598278651787194 \n",
      "CF OR2 0.3080349218852486\n"
     ]
    }
   ],
   "source": [
    "music_test_mae = masked_mae(music_test_mat, music_filled_matrix, music_test_mask)\n",
    "print(\"CF MAE %s \" % (music_test_mae/4)) #Note that we normalize MAE and RMSE by the scale of the ratings, which is 4.768656 - 1.\n",
    "\n",
    "music_test_mse = masked_mse(music_test_mat, music_filled_matrix, music_test_mask)\n",
    "print(\"CF RMSE %s \" % (np.sqrt(music_test_mse)/4))\n",
    "\n",
    "baseline_pred = np.mean(music_train['rating'])\n",
    "baseline_model = baseline_pred*np.ones(music_train_mat.shape)\n",
    "baseline_mse = masked_mse(music_test_mat, baseline_model, music_test_mask)\n",
    "print(\"CF OR2 %s\" % OSR2(music_test_mse, baseline_mse))"
   ]
  },
  {
   "cell_type": "code",
   "execution_count": 27,
   "metadata": {},
   "outputs": [
    {
     "data": {
      "text/plain": [
       "1.3219620891310984"
      ]
     },
     "execution_count": 27,
     "metadata": {},
     "output_type": "execute_result"
    }
   ],
   "source": [
    "baseline_pred"
   ]
  },
  {
   "cell_type": "markdown",
   "metadata": {},
   "source": [
    "# Part D"
   ]
  },
  {
   "cell_type": "markdown",
   "metadata": {},
   "source": [
    "### i. Two More Models"
   ]
  },
  {
   "cell_type": "markdown",
   "metadata": {},
   "source": [
    "#### 2. Linear Regression"
   ]
  },
  {
   "cell_type": "code",
   "execution_count": 28,
   "metadata": {},
   "outputs": [],
   "source": [
    "music_train['genre'] = music_train.genre.astype('category')\n",
    "music_valA['genre'] = music_valA.genre.astype('category')\n",
    "music_valB['genre'] = music_valB.genre.astype('category')\n",
    "music_test['genre'] = music_test.genre.astype('category')\n",
    "\n",
    "music_train['year'] = music_train.year.astype('category')\n",
    "music_valA['year'] = music_valA.year.astype('category')\n",
    "music_valB['year'] = music_valB.year.astype('category')\n",
    "music_test['year'] = music_test.year.astype('category')"
   ]
  },
  {
   "cell_type": "code",
   "execution_count": 29,
   "metadata": {},
   "outputs": [],
   "source": [
    "# music_train.reset_index()"
   ]
  },
  {
   "cell_type": "code",
   "execution_count": 30,
   "metadata": {},
   "outputs": [
    {
     "name": "stdout",
     "output_type": "stream",
     "text": [
      "                            OLS Regression Results                            \n",
      "==============================================================================\n",
      "Dep. Variable:                 rating   R-squared:                       0.034\n",
      "Model:                            OLS   Adj. R-squared:                  0.034\n",
      "Method:                 Least Squares   F-statistic:                     261.6\n",
      "Date:                Thu, 29 Apr 2021   Prob (F-statistic):               0.00\n",
      "Time:                        13:23:34   Log-Likelihood:            -1.5373e+05\n",
      "No. Observations:              245997   AIC:                         3.075e+05\n",
      "Df Residuals:                  245963   BIC:                         3.079e+05\n",
      "Df Model:                          33                                         \n",
      "Covariance Type:            nonrobust                                         \n",
      "=======================================================================================\n",
      "                          coef    std err          t      P>|t|      [0.025      0.975]\n",
      "---------------------------------------------------------------------------------------\n",
      "Intercept               2.0937      0.024     87.425      0.000       2.047       2.141\n",
      "genre[T.Electronic]    -0.0777      0.011     -6.813      0.000      -0.100      -0.055\n",
      "genre[T.Folk]          -0.0974      0.012     -7.881      0.000      -0.122      -0.073\n",
      "genre[T.Pop]           -0.1351      0.011    -12.056      0.000      -0.157      -0.113\n",
      "genre[T.Rap]           -0.1118      0.012     -9.211      0.000      -0.136      -0.088\n",
      "genre[T.RnB]           -0.2781      0.012    -23.772      0.000      -0.301      -0.255\n",
      "genre[T.Rock]          -0.1704      0.011    -15.423      0.000      -0.192      -0.149\n",
      "year[T.1976]           -0.4801      0.027    -17.484      0.000      -0.534      -0.426\n",
      "year[T.1978]           -0.7912      0.041    -19.351      0.000      -0.871      -0.711\n",
      "year[T.1979]           -0.1324      0.032     -4.110      0.000      -0.196      -0.069\n",
      "year[T.1985]           -0.5300      0.043    -12.281      0.000      -0.615      -0.445\n",
      "year[T.1986]           -0.4073      0.027    -15.162      0.000      -0.460      -0.355\n",
      "year[T.1987]           -0.5412      0.028    -19.487      0.000      -0.596      -0.487\n",
      "year[T.1988]           -0.3531      0.026    -13.483      0.000      -0.404      -0.302\n",
      "year[T.1990]           -0.0660      0.027     -2.480      0.013      -0.118      -0.014\n",
      "year[T.1991]           -0.6384      0.025    -25.474      0.000      -0.688      -0.589\n",
      "year[T.1992]           -0.5042      0.024    -20.807      0.000      -0.552      -0.457\n",
      "year[T.1993]           -0.5394      0.024    -22.354      0.000      -0.587      -0.492\n",
      "year[T.1995]           -0.4788      0.026    -18.487      0.000      -0.530      -0.428\n",
      "year[T.1996]           -0.8069      0.023    -35.725      0.000      -0.851      -0.763\n",
      "year[T.1997]           -0.5502      0.024    -23.338      0.000      -0.596      -0.504\n",
      "year[T.1998]           -0.8162      0.027    -30.583      0.000      -0.869      -0.764\n",
      "year[T.1999]           -0.5511      0.022    -24.644      0.000      -0.595      -0.507\n",
      "year[T.2000]           -0.6126      0.022    -28.162      0.000      -0.655      -0.570\n",
      "year[T.2001]           -0.5470      0.022    -24.951      0.000      -0.590      -0.504\n",
      "year[T.2002]           -0.5946      0.022    -27.436      0.000      -0.637      -0.552\n",
      "year[T.2003]           -0.6362      0.021    -29.633      0.000      -0.678      -0.594\n",
      "year[T.2004]           -0.7157      0.022    -32.678      0.000      -0.759      -0.673\n",
      "year[T.2005]           -0.6430      0.022    -29.902      0.000      -0.685      -0.601\n",
      "year[T.2006]           -0.6379      0.021    -29.753      0.000      -0.680      -0.596\n",
      "year[T.2007]           -0.6421      0.021    -29.924      0.000      -0.684      -0.600\n",
      "year[T.2008]           -0.6450      0.021    -30.112      0.000      -0.687      -0.603\n",
      "year[T.2009]           -0.5772      0.021    -26.930      0.000      -0.619      -0.535\n",
      "year[T.2010]           -0.6543      0.022    -30.022      0.000      -0.697      -0.612\n",
      "==============================================================================\n",
      "Omnibus:                    63019.216   Durbin-Watson:                   1.701\n",
      "Prob(Omnibus):                  0.000   Jarque-Bera (JB):           145085.217\n",
      "Skew:                           1.457   Prob(JB):                         0.00\n",
      "Kurtosis:                       5.380   Cond. No.                         153.\n",
      "==============================================================================\n",
      "\n",
      "Warnings:\n",
      "[1] Standard Errors assume that the covariance matrix of the errors is correctly specified.\n"
     ]
    }
   ],
   "source": [
    "import statsmodels.formula.api as smf\n",
    "my_formula = \"rating ~ genre + year\"\n",
    "music_ols = smf.ols(formula=my_formula, data=music_train.reset_index())\n",
    "res = music_ols.fit()\n",
    "print(res.summary())"
   ]
  },
  {
   "cell_type": "code",
   "execution_count": 31,
   "metadata": {},
   "outputs": [
    {
     "name": "stdout",
     "output_type": "stream",
     "text": [
      "MAE 0.09235568153592498 \n",
      "RMSE 0.11312545968408344 \n",
      "OSR2 0.038790215131095374 \n"
     ]
    }
   ],
   "source": [
    "test_pred_ols = res.predict(music_test.reset_index())\n",
    "test_mae_ols = np.mean(np.abs(music_test_mat[music_test_mask] - test_pred_ols))\n",
    "print(\"MAE %s \" % (test_mae_ols/4)) #Note that we normalize MAE and RMSE by the scale of the ratings, which is 5-1=4.\n",
    "\n",
    "test_mse_ols = np.mean((music_test_mat[music_test_mask] - test_pred_ols)**2)\n",
    "print(\"RMSE %s \" % (np.sqrt(test_mse_ols)/4))\n",
    "\n",
    "print(\"OSR2 %s \" % OSR2(test_mse_ols, baseline_mse))"
   ]
  },
  {
   "cell_type": "markdown",
   "metadata": {},
   "source": [
    "#### 3. Random Forests"
   ]
  },
  {
   "cell_type": "code",
   "execution_count": 32,
   "metadata": {},
   "outputs": [
    {
     "name": "stderr",
     "output_type": "stream",
     "text": [
      "[Parallel(n_jobs=1)]: Using backend SequentialBackend with 1 concurrent workers.\n",
      "[Parallel(n_jobs=1)]: Done   1 out of   1 | elapsed:    0.1s remaining:    0.0s\n"
     ]
    },
    {
     "name": "stdout",
     "output_type": "stream",
     "text": [
      "building tree 1 of 500\n",
      "building tree 2 of 500\n",
      "building tree 3 of 500\n",
      "building tree 4 of 500\n",
      "building tree 5 of 500\n",
      "building tree 6 of 500\n",
      "building tree 7 of 500\n",
      "building tree 8 of 500\n",
      "building tree 9 of 500\n",
      "building tree 10 of 500\n",
      "building tree 11 of 500\n",
      "building tree 12 of 500\n",
      "building tree 13 of 500\n",
      "building tree 14 of 500\n",
      "building tree 15 of 500\n",
      "building tree 16 of 500\n",
      "building tree 17 of 500\n",
      "building tree 18 of 500\n",
      "building tree 19 of 500\n",
      "building tree 20 of 500\n",
      "building tree 21 of 500\n",
      "building tree 22 of 500\n",
      "building tree 23 of 500\n",
      "building tree 24 of 500\n",
      "building tree 25 of 500\n",
      "building tree 26 of 500\n",
      "building tree 27 of 500\n",
      "building tree 28 of 500\n",
      "building tree 29 of 500\n",
      "building tree 30 of 500\n",
      "building tree 31 of 500\n",
      "building tree 32 of 500\n",
      "building tree 33 of 500\n",
      "building tree 34 of 500\n",
      "building tree 35 of 500\n",
      "building tree 36 of 500\n",
      "building tree 37 of 500\n",
      "building tree 38 of 500\n",
      "building tree 39 of 500\n",
      "building tree 40 of 500\n",
      "building tree 41 of 500\n",
      "building tree 42 of 500\n",
      "building tree 43 of 500\n",
      "building tree 44 of 500\n",
      "building tree 45 of 500\n",
      "building tree 46 of 500\n",
      "building tree 47 of 500\n",
      "building tree 48 of 500\n",
      "building tree 49 of 500\n",
      "building tree 50 of 500\n",
      "building tree 51 of 500\n",
      "building tree 52 of 500\n",
      "building tree 53 of 500\n",
      "building tree 54 of 500\n",
      "building tree 55 of 500\n",
      "building tree 56 of 500\n",
      "building tree 57 of 500\n",
      "building tree 58 of 500\n",
      "building tree 59 of 500\n",
      "building tree 60 of 500\n",
      "building tree 61 of 500\n",
      "building tree 62 of 500\n",
      "building tree 63 of 500\n",
      "building tree 64 of 500\n",
      "building tree 65 of 500\n",
      "building tree 66 of 500\n",
      "building tree 67 of 500\n",
      "building tree 68 of 500\n",
      "building tree 69 of 500\n",
      "building tree 70 of 500\n",
      "building tree 71 of 500\n",
      "building tree 72 of 500\n",
      "building tree 73 of 500\n",
      "building tree 74 of 500\n",
      "building tree 75 of 500\n",
      "building tree 76 of 500\n",
      "building tree 77 of 500\n",
      "building tree 78 of 500\n",
      "building tree 79 of 500\n",
      "building tree 80 of 500\n",
      "building tree 81 of 500\n",
      "building tree 82 of 500\n",
      "building tree 83 of 500\n",
      "building tree 84 of 500\n",
      "building tree 85 of 500\n",
      "building tree 86 of 500\n",
      "building tree 87 of 500\n",
      "building tree 88 of 500\n",
      "building tree 89 of 500\n",
      "building tree 90 of 500\n",
      "building tree 91 of 500\n",
      "building tree 92 of 500\n",
      "building tree 93 of 500\n",
      "building tree 94 of 500\n",
      "building tree 95 of 500\n",
      "building tree 96 of 500\n",
      "building tree 97 of 500\n",
      "building tree 98 of 500\n",
      "building tree 99 of 500\n",
      "building tree 100 of 500\n",
      "building tree 101 of 500\n",
      "building tree 102 of 500\n",
      "building tree 103 of 500\n",
      "building tree 104 of 500\n",
      "building tree 105 of 500\n",
      "building tree 106 of 500\n",
      "building tree 107 of 500\n",
      "building tree 108 of 500\n",
      "building tree 109 of 500\n",
      "building tree 110 of 500\n",
      "building tree 111 of 500\n",
      "building tree 112 of 500\n",
      "building tree 113 of 500\n",
      "building tree 114 of 500\n",
      "building tree 115 of 500\n",
      "building tree 116 of 500\n",
      "building tree 117 of 500\n",
      "building tree 118 of 500\n",
      "building tree 119 of 500\n",
      "building tree 120 of 500\n",
      "building tree 121 of 500\n",
      "building tree 122 of 500\n",
      "building tree 123 of 500\n",
      "building tree 124 of 500\n",
      "building tree 125 of 500\n",
      "building tree 126 of 500\n",
      "building tree 127 of 500\n",
      "building tree 128 of 500\n",
      "building tree 129 of 500\n",
      "building tree 130 of 500\n",
      "building tree 131 of 500\n",
      "building tree 132 of 500\n",
      "building tree 133 of 500\n",
      "building tree 134 of 500\n",
      "building tree 135 of 500\n",
      "building tree 136 of 500\n",
      "building tree 137 of 500\n",
      "building tree 138 of 500\n",
      "building tree 139 of 500\n",
      "building tree 140 of 500\n",
      "building tree 141 of 500\n",
      "building tree 142 of 500\n",
      "building tree 143 of 500\n",
      "building tree 144 of 500\n",
      "building tree 145 of 500\n",
      "building tree 146 of 500\n",
      "building tree 147 of 500\n",
      "building tree 148 of 500\n",
      "building tree 149 of 500\n",
      "building tree 150 of 500\n",
      "building tree 151 of 500\n",
      "building tree 152 of 500\n",
      "building tree 153 of 500\n",
      "building tree 154 of 500\n",
      "building tree 155 of 500\n",
      "building tree 156 of 500\n",
      "building tree 157 of 500\n",
      "building tree 158 of 500\n",
      "building tree 159 of 500\n",
      "building tree 160 of 500\n",
      "building tree 161 of 500\n",
      "building tree 162 of 500\n",
      "building tree 163 of 500\n",
      "building tree 164 of 500\n",
      "building tree 165 of 500\n",
      "building tree 166 of 500\n",
      "building tree 167 of 500\n",
      "building tree 168 of 500\n",
      "building tree 169 of 500\n",
      "building tree 170 of 500\n",
      "building tree 171 of 500\n",
      "building tree 172 of 500\n",
      "building tree 173 of 500\n",
      "building tree 174 of 500\n",
      "building tree 175 of 500\n",
      "building tree 176 of 500\n",
      "building tree 177 of 500\n",
      "building tree 178 of 500\n",
      "building tree 179 of 500\n",
      "building tree 180 of 500\n",
      "building tree 181 of 500\n",
      "building tree 182 of 500\n",
      "building tree 183 of 500\n",
      "building tree 184 of 500\n",
      "building tree 185 of 500\n",
      "building tree 186 of 500\n",
      "building tree 187 of 500\n",
      "building tree 188 of 500\n",
      "building tree 189 of 500\n",
      "building tree 190 of 500\n",
      "building tree 191 of 500\n",
      "building tree 192 of 500\n",
      "building tree 193 of 500\n",
      "building tree 194 of 500\n",
      "building tree 195 of 500\n",
      "building tree 196 of 500\n",
      "building tree 197 of 500\n",
      "building tree 198 of 500\n",
      "building tree 199 of 500\n",
      "building tree 200 of 500\n",
      "building tree 201 of 500\n",
      "building tree 202 of 500\n",
      "building tree 203 of 500\n",
      "building tree 204 of 500\n",
      "building tree 205 of 500\n",
      "building tree 206 of 500\n",
      "building tree 207 of 500\n",
      "building tree 208 of 500\n",
      "building tree 209 of 500\n",
      "building tree 210 of 500\n",
      "building tree 211 of 500\n",
      "building tree 212 of 500\n",
      "building tree 213 of 500\n",
      "building tree 214 of 500\n",
      "building tree 215 of 500\n",
      "building tree 216 of 500\n",
      "building tree 217 of 500\n",
      "building tree 218 of 500\n",
      "building tree 219 of 500\n",
      "building tree 220 of 500\n",
      "building tree 221 of 500\n",
      "building tree 222 of 500\n",
      "building tree 223 of 500\n",
      "building tree 224 of 500\n",
      "building tree 225 of 500\n",
      "building tree 226 of 500\n",
      "building tree 227 of 500\n",
      "building tree 228 of 500\n",
      "building tree 229 of 500\n",
      "building tree 230 of 500\n",
      "building tree 231 of 500\n",
      "building tree 232 of 500\n",
      "building tree 233 of 500\n",
      "building tree 234 of 500\n",
      "building tree 235 of 500\n",
      "building tree 236 of 500\n",
      "building tree 237 of 500\n",
      "building tree 238 of 500\n",
      "building tree 239 of 500\n",
      "building tree 240 of 500\n",
      "building tree 241 of 500\n",
      "building tree 242 of 500\n",
      "building tree 243 of 500\n",
      "building tree 244 of 500\n",
      "building tree 245 of 500\n",
      "building tree 246 of 500\n",
      "building tree 247 of 500\n",
      "building tree 248 of 500\n",
      "building tree 249 of 500\n",
      "building tree 250 of 500\n",
      "building tree 251 of 500\n",
      "building tree 252 of 500\n",
      "building tree 253 of 500\n",
      "building tree 254 of 500\n",
      "building tree 255 of 500\n",
      "building tree 256 of 500\n",
      "building tree 257 of 500\n",
      "building tree 258 of 500\n",
      "building tree 259 of 500\n",
      "building tree 260 of 500\n",
      "building tree 261 of 500\n",
      "building tree 262 of 500\n",
      "building tree 263 of 500\n",
      "building tree 264 of 500\n",
      "building tree 265 of 500\n",
      "building tree 266 of 500\n",
      "building tree 267 of 500\n",
      "building tree 268 of 500\n",
      "building tree 269 of 500\n",
      "building tree 270 of 500\n",
      "building tree 271 of 500\n",
      "building tree 272 of 500\n",
      "building tree 273 of 500\n",
      "building tree 274 of 500\n",
      "building tree 275 of 500\n",
      "building tree 276 of 500\n",
      "building tree 277 of 500\n",
      "building tree 278 of 500\n",
      "building tree 279 of 500\n",
      "building tree 280 of 500\n",
      "building tree 281 of 500\n",
      "building tree 282 of 500\n",
      "building tree 283 of 500\n",
      "building tree 284 of 500\n",
      "building tree 285 of 500\n",
      "building tree 286 of 500\n",
      "building tree 287 of 500\n",
      "building tree 288 of 500\n",
      "building tree 289 of 500\n",
      "building tree 290 of 500\n",
      "building tree 291 of 500\n",
      "building tree 292 of 500\n",
      "building tree 293 of 500\n",
      "building tree 294 of 500\n",
      "building tree 295 of 500\n",
      "building tree 296 of 500\n",
      "building tree 297 of 500\n",
      "building tree 298 of 500\n",
      "building tree 299 of 500\n",
      "building tree 300 of 500\n",
      "building tree 301 of 500\n",
      "building tree 302 of 500\n",
      "building tree 303 of 500\n",
      "building tree 304 of 500\n",
      "building tree 305 of 500\n",
      "building tree 306 of 500\n",
      "building tree 307 of 500\n",
      "building tree 308 of 500\n",
      "building tree 309 of 500\n",
      "building tree 310 of 500\n",
      "building tree 311 of 500\n",
      "building tree 312 of 500\n",
      "building tree 313 of 500\n",
      "building tree 314 of 500\n",
      "building tree 315 of 500\n",
      "building tree 316 of 500\n",
      "building tree 317 of 500\n",
      "building tree 318 of 500\n",
      "building tree 319 of 500\n",
      "building tree 320 of 500\n",
      "building tree 321 of 500\n",
      "building tree 322 of 500\n",
      "building tree 323 of 500\n",
      "building tree 324 of 500\n",
      "building tree 325 of 500\n",
      "building tree 326 of 500\n",
      "building tree 327 of 500\n",
      "building tree 328 of 500\n",
      "building tree 329 of 500\n",
      "building tree 330 of 500\n",
      "building tree 331 of 500\n",
      "building tree 332 of 500\n",
      "building tree 333 of 500\n"
     ]
    },
    {
     "name": "stdout",
     "output_type": "stream",
     "text": [
      "building tree 334 of 500\n",
      "building tree 335 of 500\n",
      "building tree 336 of 500\n",
      "building tree 337 of 500\n",
      "building tree 338 of 500\n",
      "building tree 339 of 500\n",
      "building tree 340 of 500\n",
      "building tree 341 of 500\n",
      "building tree 342 of 500\n",
      "building tree 343 of 500\n",
      "building tree 344 of 500\n",
      "building tree 345 of 500\n",
      "building tree 346 of 500\n",
      "building tree 347 of 500\n",
      "building tree 348 of 500\n",
      "building tree 349 of 500\n",
      "building tree 350 of 500\n",
      "building tree 351 of 500\n",
      "building tree 352 of 500\n",
      "building tree 353 of 500\n",
      "building tree 354 of 500\n",
      "building tree 355 of 500\n",
      "building tree 356 of 500\n",
      "building tree 357 of 500\n",
      "building tree 358 of 500\n",
      "building tree 359 of 500\n",
      "building tree 360 of 500\n",
      "building tree 361 of 500\n",
      "building tree 362 of 500\n",
      "building tree 363 of 500\n",
      "building tree 364 of 500\n",
      "building tree 365 of 500\n",
      "building tree 366 of 500\n",
      "building tree 367 of 500\n",
      "building tree 368 of 500\n",
      "building tree 369 of 500\n",
      "building tree 370 of 500\n",
      "building tree 371 of 500\n",
      "building tree 372 of 500\n",
      "building tree 373 of 500\n",
      "building tree 374 of 500\n",
      "building tree 375 of 500\n",
      "building tree 376 of 500\n",
      "building tree 377 of 500\n",
      "building tree 378 of 500\n",
      "building tree 379 of 500\n",
      "building tree 380 of 500\n",
      "building tree 381 of 500\n",
      "building tree 382 of 500\n",
      "building tree 383 of 500\n",
      "building tree 384 of 500\n",
      "building tree 385 of 500\n",
      "building tree 386 of 500\n",
      "building tree 387 of 500\n",
      "building tree 388 of 500\n",
      "building tree 389 of 500\n",
      "building tree 390 of 500\n",
      "building tree 391 of 500\n",
      "building tree 392 of 500\n",
      "building tree 393 of 500\n",
      "building tree 394 of 500\n",
      "building tree 395 of 500\n",
      "building tree 396 of 500\n",
      "building tree 397 of 500\n",
      "building tree 398 of 500\n",
      "building tree 399 of 500\n",
      "building tree 400 of 500\n",
      "building tree 401 of 500\n",
      "building tree 402 of 500\n",
      "building tree 403 of 500\n",
      "building tree 404 of 500\n",
      "building tree 405 of 500\n",
      "building tree 406 of 500\n",
      "building tree 407 of 500\n",
      "building tree 408 of 500\n",
      "building tree 409 of 500\n",
      "building tree 410 of 500\n",
      "building tree 411 of 500\n",
      "building tree 412 of 500\n",
      "building tree 413 of 500\n",
      "building tree 414 of 500\n",
      "building tree 415 of 500\n",
      "building tree 416 of 500\n",
      "building tree 417 of 500\n",
      "building tree 418 of 500\n",
      "building tree 419 of 500\n",
      "building tree 420 of 500\n",
      "building tree 421 of 500\n",
      "building tree 422 of 500\n",
      "building tree 423 of 500\n",
      "building tree 424 of 500\n",
      "building tree 425 of 500\n",
      "building tree 426 of 500\n",
      "building tree 427 of 500\n",
      "building tree 428 of 500\n",
      "building tree 429 of 500\n",
      "building tree 430 of 500\n",
      "building tree 431 of 500\n",
      "building tree 432 of 500\n",
      "building tree 433 of 500\n",
      "building tree 434 of 500\n",
      "building tree 435 of 500\n",
      "building tree 436 of 500\n",
      "building tree 437 of 500\n",
      "building tree 438 of 500\n",
      "building tree 439 of 500\n",
      "building tree 440 of 500\n",
      "building tree 441 of 500\n",
      "building tree 442 of 500\n",
      "building tree 443 of 500\n",
      "building tree 444 of 500\n",
      "building tree 445 of 500\n",
      "building tree 446 of 500\n",
      "building tree 447 of 500\n",
      "building tree 448 of 500\n",
      "building tree 449 of 500\n",
      "building tree 450 of 500\n",
      "building tree 451 of 500\n",
      "building tree 452 of 500\n",
      "building tree 453 of 500\n",
      "building tree 454 of 500\n",
      "building tree 455 of 500\n",
      "building tree 456 of 500\n",
      "building tree 457 of 500\n",
      "building tree 458 of 500\n",
      "building tree 459 of 500\n",
      "building tree 460 of 500\n",
      "building tree 461 of 500\n",
      "building tree 462 of 500\n",
      "building tree 463 of 500\n",
      "building tree 464 of 500\n",
      "building tree 465 of 500\n",
      "building tree 466 of 500\n",
      "building tree 467 of 500\n",
      "building tree 468 of 500\n",
      "building tree 469 of 500\n",
      "building tree 470 of 500\n",
      "building tree 471 of 500\n",
      "building tree 472 of 500\n",
      "building tree 473 of 500\n",
      "building tree 474 of 500\n",
      "building tree 475 of 500\n",
      "building tree 476 of 500\n",
      "building tree 477 of 500\n",
      "building tree 478 of 500\n",
      "building tree 479 of 500\n",
      "building tree 480 of 500\n",
      "building tree 481 of 500\n",
      "building tree 482 of 500\n",
      "building tree 483 of 500\n",
      "building tree 484 of 500\n",
      "building tree 485 of 500\n",
      "building tree 486 of 500\n",
      "building tree 487 of 500\n",
      "building tree 488 of 500\n",
      "building tree 489 of 500\n",
      "building tree 490 of 500\n",
      "building tree 491 of 500\n",
      "building tree 492 of 500\n",
      "building tree 493 of 500\n",
      "building tree 494 of 500\n",
      "building tree 495 of 500\n",
      "building tree 496 of 500\n",
      "building tree 497 of 500\n",
      "building tree 498 of 500\n",
      "building tree 499 of 500\n",
      "building tree 500 of 500\n",
      "Time:  83.38148092100164\n"
     ]
    },
    {
     "name": "stderr",
     "output_type": "stream",
     "text": [
      "[Parallel(n_jobs=1)]: Done 500 out of 500 | elapsed:  1.4min finished\n"
     ]
    }
   ],
   "source": [
    "from sklearn.ensemble import RandomForestRegressor\n",
    "\n",
    "import timeit\n",
    "start = timeit.default_timer()\n",
    "\n",
    "# X_train = music_train.drop(columns = [\"songID\",\"rating\", 'songName', 'artist'])\n",
    "X_train = music_train[['year', 'genre']]\n",
    "X_train = pd.get_dummies(X_train)\n",
    "y_train = music_train[\"rating\"]\n",
    "rf = RandomForestRegressor(max_features=5, min_samples_leaf=5, n_estimators = 500, random_state=88, verbose=2)\n",
    "rf.fit(X_train, y_train)\n",
    "\n",
    "stop = timeit.default_timer()\n",
    "print('Time: ', stop - start)"
   ]
  },
  {
   "cell_type": "code",
   "execution_count": 33,
   "metadata": {},
   "outputs": [
    {
     "name": "stderr",
     "output_type": "stream",
     "text": [
      "[Parallel(n_jobs=1)]: Using backend SequentialBackend with 1 concurrent workers.\n",
      "[Parallel(n_jobs=1)]: Done   1 out of   1 | elapsed:    0.0s remaining:    0.0s\n"
     ]
    },
    {
     "name": "stdout",
     "output_type": "stream",
     "text": [
      "MAE 0.09152666687515922 \n",
      "RMSE 0.11243412826498947 \n",
      "OSR2 0.050502592495190735 \n"
     ]
    },
    {
     "name": "stderr",
     "output_type": "stream",
     "text": [
      "[Parallel(n_jobs=1)]: Done 500 out of 500 | elapsed:    0.7s finished\n"
     ]
    }
   ],
   "source": [
    "test_pred_rf = rf.predict(pd.get_dummies(music_test[['year', 'genre']]))\n",
    "test_mae_rf = np.mean(np.abs(music_test_mat[music_test_mask] - test_pred_rf))\n",
    "print(\"MAE %s \" % (test_mae_rf/4)) #Note that we normalize MAE and RMSE by the scale of the ratings, which is 5-1=4.\n",
    "\n",
    "test_mse_rf = np.mean((music_test_mat[music_test_mask] - test_pred_rf)**2)\n",
    "print(\"RMSE %s \" % (np.sqrt(test_mse_rf)/4))\n",
    "\n",
    "print(\"OSR2 %s \" % OSR2(test_mse_rf, baseline_mse))"
   ]
  },
  {
   "cell_type": "markdown",
   "metadata": {},
   "source": [
    "## ii. Blending"
   ]
  },
  {
   "cell_type": "markdown",
   "metadata": {},
   "source": [
    "Here, I compute the predictions of the three models (Collaborative Filtering, OLS, Random Forests) on Validation Set B, and put them into a dataframe with Validation B's ratings. Then I train a linear regression model to blend the 3 model's predicted ratings. I name the fitted model valB_blending. Finally, to evaluate the blended model's performance on the test set, I make a dataframe of the three models individually on the test set, and combine the predictions with the model valB_blending."
   ]
  },
  {
   "cell_type": "code",
   "execution_count": 34,
   "metadata": {},
   "outputs": [
    {
     "data": {
      "text/html": [
       "<div>\n",
       "<style scoped>\n",
       "    .dataframe tbody tr th:only-of-type {\n",
       "        vertical-align: middle;\n",
       "    }\n",
       "\n",
       "    .dataframe tbody tr th {\n",
       "        vertical-align: top;\n",
       "    }\n",
       "\n",
       "    .dataframe thead th {\n",
       "        text-align: right;\n",
       "    }\n",
       "</style>\n",
       "<table border=\"1\" class=\"dataframe\">\n",
       "  <thead>\n",
       "    <tr style=\"text-align: right;\">\n",
       "      <th></th>\n",
       "      <th>year_1975</th>\n",
       "      <th>year_1976</th>\n",
       "      <th>year_1978</th>\n",
       "      <th>year_1979</th>\n",
       "      <th>year_1985</th>\n",
       "      <th>year_1986</th>\n",
       "      <th>year_1987</th>\n",
       "      <th>year_1988</th>\n",
       "      <th>year_1990</th>\n",
       "      <th>year_1991</th>\n",
       "      <th>...</th>\n",
       "      <th>year_2008</th>\n",
       "      <th>year_2009</th>\n",
       "      <th>year_2010</th>\n",
       "      <th>genre_Country</th>\n",
       "      <th>genre_Electronic</th>\n",
       "      <th>genre_Folk</th>\n",
       "      <th>genre_Pop</th>\n",
       "      <th>genre_Rap</th>\n",
       "      <th>genre_RnB</th>\n",
       "      <th>genre_Rock</th>\n",
       "    </tr>\n",
       "    <tr>\n",
       "      <th>userID</th>\n",
       "      <th></th>\n",
       "      <th></th>\n",
       "      <th></th>\n",
       "      <th></th>\n",
       "      <th></th>\n",
       "      <th></th>\n",
       "      <th></th>\n",
       "      <th></th>\n",
       "      <th></th>\n",
       "      <th></th>\n",
       "      <th></th>\n",
       "      <th></th>\n",
       "      <th></th>\n",
       "      <th></th>\n",
       "      <th></th>\n",
       "      <th></th>\n",
       "      <th></th>\n",
       "      <th></th>\n",
       "      <th></th>\n",
       "      <th></th>\n",
       "      <th></th>\n",
       "    </tr>\n",
       "  </thead>\n",
       "  <tbody>\n",
       "    <tr>\n",
       "      <th>1</th>\n",
       "      <td>0</td>\n",
       "      <td>0</td>\n",
       "      <td>0</td>\n",
       "      <td>0</td>\n",
       "      <td>0</td>\n",
       "      <td>0</td>\n",
       "      <td>0</td>\n",
       "      <td>0</td>\n",
       "      <td>0</td>\n",
       "      <td>0</td>\n",
       "      <td>...</td>\n",
       "      <td>0</td>\n",
       "      <td>0</td>\n",
       "      <td>0</td>\n",
       "      <td>0</td>\n",
       "      <td>0</td>\n",
       "      <td>0</td>\n",
       "      <td>0</td>\n",
       "      <td>0</td>\n",
       "      <td>0</td>\n",
       "      <td>1</td>\n",
       "    </tr>\n",
       "    <tr>\n",
       "      <th>1</th>\n",
       "      <td>0</td>\n",
       "      <td>0</td>\n",
       "      <td>0</td>\n",
       "      <td>0</td>\n",
       "      <td>0</td>\n",
       "      <td>0</td>\n",
       "      <td>0</td>\n",
       "      <td>0</td>\n",
       "      <td>0</td>\n",
       "      <td>0</td>\n",
       "      <td>...</td>\n",
       "      <td>0</td>\n",
       "      <td>1</td>\n",
       "      <td>0</td>\n",
       "      <td>0</td>\n",
       "      <td>0</td>\n",
       "      <td>0</td>\n",
       "      <td>0</td>\n",
       "      <td>0</td>\n",
       "      <td>0</td>\n",
       "      <td>1</td>\n",
       "    </tr>\n",
       "    <tr>\n",
       "      <th>1</th>\n",
       "      <td>0</td>\n",
       "      <td>0</td>\n",
       "      <td>0</td>\n",
       "      <td>0</td>\n",
       "      <td>0</td>\n",
       "      <td>0</td>\n",
       "      <td>0</td>\n",
       "      <td>0</td>\n",
       "      <td>0</td>\n",
       "      <td>0</td>\n",
       "      <td>...</td>\n",
       "      <td>0</td>\n",
       "      <td>0</td>\n",
       "      <td>1</td>\n",
       "      <td>0</td>\n",
       "      <td>1</td>\n",
       "      <td>0</td>\n",
       "      <td>0</td>\n",
       "      <td>0</td>\n",
       "      <td>0</td>\n",
       "      <td>0</td>\n",
       "    </tr>\n",
       "    <tr>\n",
       "      <th>2</th>\n",
       "      <td>0</td>\n",
       "      <td>0</td>\n",
       "      <td>0</td>\n",
       "      <td>0</td>\n",
       "      <td>0</td>\n",
       "      <td>0</td>\n",
       "      <td>0</td>\n",
       "      <td>0</td>\n",
       "      <td>0</td>\n",
       "      <td>0</td>\n",
       "      <td>...</td>\n",
       "      <td>0</td>\n",
       "      <td>0</td>\n",
       "      <td>0</td>\n",
       "      <td>0</td>\n",
       "      <td>1</td>\n",
       "      <td>0</td>\n",
       "      <td>0</td>\n",
       "      <td>0</td>\n",
       "      <td>0</td>\n",
       "      <td>0</td>\n",
       "    </tr>\n",
       "    <tr>\n",
       "      <th>2</th>\n",
       "      <td>0</td>\n",
       "      <td>0</td>\n",
       "      <td>0</td>\n",
       "      <td>0</td>\n",
       "      <td>0</td>\n",
       "      <td>0</td>\n",
       "      <td>0</td>\n",
       "      <td>0</td>\n",
       "      <td>0</td>\n",
       "      <td>0</td>\n",
       "      <td>...</td>\n",
       "      <td>0</td>\n",
       "      <td>0</td>\n",
       "      <td>0</td>\n",
       "      <td>0</td>\n",
       "      <td>0</td>\n",
       "      <td>0</td>\n",
       "      <td>0</td>\n",
       "      <td>0</td>\n",
       "      <td>0</td>\n",
       "      <td>1</td>\n",
       "    </tr>\n",
       "    <tr>\n",
       "      <th>...</th>\n",
       "      <td>...</td>\n",
       "      <td>...</td>\n",
       "      <td>...</td>\n",
       "      <td>...</td>\n",
       "      <td>...</td>\n",
       "      <td>...</td>\n",
       "      <td>...</td>\n",
       "      <td>...</td>\n",
       "      <td>...</td>\n",
       "      <td>...</td>\n",
       "      <td>...</td>\n",
       "      <td>...</td>\n",
       "      <td>...</td>\n",
       "      <td>...</td>\n",
       "      <td>...</td>\n",
       "      <td>...</td>\n",
       "      <td>...</td>\n",
       "      <td>...</td>\n",
       "      <td>...</td>\n",
       "      <td>...</td>\n",
       "      <td>...</td>\n",
       "    </tr>\n",
       "    <tr>\n",
       "      <th>2421</th>\n",
       "      <td>0</td>\n",
       "      <td>0</td>\n",
       "      <td>0</td>\n",
       "      <td>0</td>\n",
       "      <td>0</td>\n",
       "      <td>0</td>\n",
       "      <td>0</td>\n",
       "      <td>0</td>\n",
       "      <td>0</td>\n",
       "      <td>0</td>\n",
       "      <td>...</td>\n",
       "      <td>1</td>\n",
       "      <td>0</td>\n",
       "      <td>0</td>\n",
       "      <td>0</td>\n",
       "      <td>0</td>\n",
       "      <td>0</td>\n",
       "      <td>1</td>\n",
       "      <td>0</td>\n",
       "      <td>0</td>\n",
       "      <td>0</td>\n",
       "    </tr>\n",
       "    <tr>\n",
       "      <th>2421</th>\n",
       "      <td>0</td>\n",
       "      <td>0</td>\n",
       "      <td>0</td>\n",
       "      <td>0</td>\n",
       "      <td>0</td>\n",
       "      <td>0</td>\n",
       "      <td>0</td>\n",
       "      <td>0</td>\n",
       "      <td>0</td>\n",
       "      <td>0</td>\n",
       "      <td>...</td>\n",
       "      <td>0</td>\n",
       "      <td>0</td>\n",
       "      <td>0</td>\n",
       "      <td>0</td>\n",
       "      <td>0</td>\n",
       "      <td>0</td>\n",
       "      <td>0</td>\n",
       "      <td>0</td>\n",
       "      <td>0</td>\n",
       "      <td>1</td>\n",
       "    </tr>\n",
       "    <tr>\n",
       "      <th>2421</th>\n",
       "      <td>0</td>\n",
       "      <td>0</td>\n",
       "      <td>0</td>\n",
       "      <td>0</td>\n",
       "      <td>0</td>\n",
       "      <td>0</td>\n",
       "      <td>0</td>\n",
       "      <td>0</td>\n",
       "      <td>0</td>\n",
       "      <td>0</td>\n",
       "      <td>...</td>\n",
       "      <td>1</td>\n",
       "      <td>0</td>\n",
       "      <td>0</td>\n",
       "      <td>0</td>\n",
       "      <td>0</td>\n",
       "      <td>0</td>\n",
       "      <td>0</td>\n",
       "      <td>0</td>\n",
       "      <td>0</td>\n",
       "      <td>1</td>\n",
       "    </tr>\n",
       "    <tr>\n",
       "      <th>2421</th>\n",
       "      <td>0</td>\n",
       "      <td>0</td>\n",
       "      <td>0</td>\n",
       "      <td>0</td>\n",
       "      <td>0</td>\n",
       "      <td>0</td>\n",
       "      <td>0</td>\n",
       "      <td>0</td>\n",
       "      <td>0</td>\n",
       "      <td>0</td>\n",
       "      <td>...</td>\n",
       "      <td>0</td>\n",
       "      <td>1</td>\n",
       "      <td>0</td>\n",
       "      <td>0</td>\n",
       "      <td>0</td>\n",
       "      <td>0</td>\n",
       "      <td>1</td>\n",
       "      <td>0</td>\n",
       "      <td>0</td>\n",
       "      <td>0</td>\n",
       "    </tr>\n",
       "    <tr>\n",
       "      <th>2421</th>\n",
       "      <td>0</td>\n",
       "      <td>0</td>\n",
       "      <td>0</td>\n",
       "      <td>0</td>\n",
       "      <td>0</td>\n",
       "      <td>0</td>\n",
       "      <td>0</td>\n",
       "      <td>0</td>\n",
       "      <td>0</td>\n",
       "      <td>0</td>\n",
       "      <td>...</td>\n",
       "      <td>0</td>\n",
       "      <td>0</td>\n",
       "      <td>0</td>\n",
       "      <td>0</td>\n",
       "      <td>0</td>\n",
       "      <td>0</td>\n",
       "      <td>0</td>\n",
       "      <td>0</td>\n",
       "      <td>0</td>\n",
       "      <td>1</td>\n",
       "    </tr>\n",
       "  </tbody>\n",
       "</table>\n",
       "<p>14471 rows × 35 columns</p>\n",
       "</div>"
      ],
      "text/plain": [
       "        year_1975  year_1976  year_1978  year_1979  year_1985  year_1986  \\\n",
       "userID                                                                     \n",
       "1               0          0          0          0          0          0   \n",
       "1               0          0          0          0          0          0   \n",
       "1               0          0          0          0          0          0   \n",
       "2               0          0          0          0          0          0   \n",
       "2               0          0          0          0          0          0   \n",
       "...           ...        ...        ...        ...        ...        ...   \n",
       "2421            0          0          0          0          0          0   \n",
       "2421            0          0          0          0          0          0   \n",
       "2421            0          0          0          0          0          0   \n",
       "2421            0          0          0          0          0          0   \n",
       "2421            0          0          0          0          0          0   \n",
       "\n",
       "        year_1987  year_1988  year_1990  year_1991  ...  year_2008  year_2009  \\\n",
       "userID                                              ...                         \n",
       "1               0          0          0          0  ...          0          0   \n",
       "1               0          0          0          0  ...          0          1   \n",
       "1               0          0          0          0  ...          0          0   \n",
       "2               0          0          0          0  ...          0          0   \n",
       "2               0          0          0          0  ...          0          0   \n",
       "...           ...        ...        ...        ...  ...        ...        ...   \n",
       "2421            0          0          0          0  ...          1          0   \n",
       "2421            0          0          0          0  ...          0          0   \n",
       "2421            0          0          0          0  ...          1          0   \n",
       "2421            0          0          0          0  ...          0          1   \n",
       "2421            0          0          0          0  ...          0          0   \n",
       "\n",
       "        year_2010  genre_Country  genre_Electronic  genre_Folk  genre_Pop  \\\n",
       "userID                                                                      \n",
       "1               0              0                 0           0          0   \n",
       "1               0              0                 0           0          0   \n",
       "1               1              0                 1           0          0   \n",
       "2               0              0                 1           0          0   \n",
       "2               0              0                 0           0          0   \n",
       "...           ...            ...               ...         ...        ...   \n",
       "2421            0              0                 0           0          1   \n",
       "2421            0              0                 0           0          0   \n",
       "2421            0              0                 0           0          0   \n",
       "2421            0              0                 0           0          1   \n",
       "2421            0              0                 0           0          0   \n",
       "\n",
       "        genre_Rap  genre_RnB  genre_Rock  \n",
       "userID                                    \n",
       "1               0          0           1  \n",
       "1               0          0           1  \n",
       "1               0          0           0  \n",
       "2               0          0           0  \n",
       "2               0          0           1  \n",
       "...           ...        ...         ...  \n",
       "2421            0          0           0  \n",
       "2421            0          0           1  \n",
       "2421            0          0           1  \n",
       "2421            0          0           0  \n",
       "2421            0          0           1  \n",
       "\n",
       "[14471 rows x 35 columns]"
      ]
     },
     "execution_count": 34,
     "metadata": {},
     "output_type": "execute_result"
    }
   ],
   "source": [
    "pd.get_dummies(music_valB[['year', 'genre']])"
   ]
  },
  {
   "cell_type": "code",
   "execution_count": 35,
   "metadata": {},
   "outputs": [
    {
     "name": "stderr",
     "output_type": "stream",
     "text": [
      "[Parallel(n_jobs=1)]: Using backend SequentialBackend with 1 concurrent workers.\n",
      "[Parallel(n_jobs=1)]: Done   1 out of   1 | elapsed:    0.0s remaining:    0.0s\n",
      "[Parallel(n_jobs=1)]: Done 500 out of 500 | elapsed:    0.8s finished\n"
     ]
    }
   ],
   "source": [
    "valB_pred_blending = pd.DataFrame(data = music_filled_matrix[music_valB_mask]).rename(columns = {0: 'cf'})\n",
    "valB_pred_blending['ols'] = res.predict(music_valB[['year', 'genre']]).values\n",
    "valB_pred_blending['rf'] = rf.predict(pd.get_dummies(music_valB[['year', 'genre']]))\n",
    "valB_pred_blending['rating'] = music_valB['rating'].values"
   ]
  },
  {
   "cell_type": "code",
   "execution_count": 36,
   "metadata": {},
   "outputs": [
    {
     "data": {
      "text/html": [
       "<div>\n",
       "<style scoped>\n",
       "    .dataframe tbody tr th:only-of-type {\n",
       "        vertical-align: middle;\n",
       "    }\n",
       "\n",
       "    .dataframe tbody tr th {\n",
       "        vertical-align: top;\n",
       "    }\n",
       "\n",
       "    .dataframe thead th {\n",
       "        text-align: right;\n",
       "    }\n",
       "</style>\n",
       "<table border=\"1\" class=\"dataframe\">\n",
       "  <thead>\n",
       "    <tr style=\"text-align: right;\">\n",
       "      <th></th>\n",
       "      <th>cf</th>\n",
       "      <th>ols</th>\n",
       "      <th>rf</th>\n",
       "      <th>rating</th>\n",
       "    </tr>\n",
       "  </thead>\n",
       "  <tbody>\n",
       "    <tr>\n",
       "      <th>0</th>\n",
       "      <td>2.305456</td>\n",
       "      <td>1.328672</td>\n",
       "      <td>1.322405</td>\n",
       "      <td>1.989836</td>\n",
       "    </tr>\n",
       "    <tr>\n",
       "      <th>1</th>\n",
       "      <td>1.498923</td>\n",
       "      <td>1.346034</td>\n",
       "      <td>1.359284</td>\n",
       "      <td>1.000000</td>\n",
       "    </tr>\n",
       "    <tr>\n",
       "      <th>2</th>\n",
       "      <td>1.683799</td>\n",
       "      <td>1.361723</td>\n",
       "      <td>1.337721</td>\n",
       "      <td>1.784426</td>\n",
       "    </tr>\n",
       "    <tr>\n",
       "      <th>3</th>\n",
       "      <td>1.482973</td>\n",
       "      <td>1.373052</td>\n",
       "      <td>1.315066</td>\n",
       "      <td>1.000000</td>\n",
       "    </tr>\n",
       "    <tr>\n",
       "      <th>4</th>\n",
       "      <td>1.636671</td>\n",
       "      <td>1.281161</td>\n",
       "      <td>1.239557</td>\n",
       "      <td>1.000000</td>\n",
       "    </tr>\n",
       "    <tr>\n",
       "      <th>...</th>\n",
       "      <td>...</td>\n",
       "      <td>...</td>\n",
       "      <td>...</td>\n",
       "      <td>...</td>\n",
       "    </tr>\n",
       "    <tr>\n",
       "      <th>14466</th>\n",
       "      <td>1.341361</td>\n",
       "      <td>1.313628</td>\n",
       "      <td>1.313691</td>\n",
       "      <td>1.000000</td>\n",
       "    </tr>\n",
       "    <tr>\n",
       "      <th>14467</th>\n",
       "      <td>1.190828</td>\n",
       "      <td>1.207557</td>\n",
       "      <td>1.220499</td>\n",
       "      <td>1.000000</td>\n",
       "    </tr>\n",
       "    <tr>\n",
       "      <th>14468</th>\n",
       "      <td>1.460254</td>\n",
       "      <td>1.278295</td>\n",
       "      <td>1.297004</td>\n",
       "      <td>1.000000</td>\n",
       "    </tr>\n",
       "    <tr>\n",
       "      <th>14469</th>\n",
       "      <td>1.670098</td>\n",
       "      <td>1.381367</td>\n",
       "      <td>1.379889</td>\n",
       "      <td>1.989836</td>\n",
       "    </tr>\n",
       "    <tr>\n",
       "      <th>14470</th>\n",
       "      <td>1.455978</td>\n",
       "      <td>1.281161</td>\n",
       "      <td>1.239557</td>\n",
       "      <td>1.494918</td>\n",
       "    </tr>\n",
       "  </tbody>\n",
       "</table>\n",
       "<p>14471 rows × 4 columns</p>\n",
       "</div>"
      ],
      "text/plain": [
       "             cf       ols        rf    rating\n",
       "0      2.305456  1.328672  1.322405  1.989836\n",
       "1      1.498923  1.346034  1.359284  1.000000\n",
       "2      1.683799  1.361723  1.337721  1.784426\n",
       "3      1.482973  1.373052  1.315066  1.000000\n",
       "4      1.636671  1.281161  1.239557  1.000000\n",
       "...         ...       ...       ...       ...\n",
       "14466  1.341361  1.313628  1.313691  1.000000\n",
       "14467  1.190828  1.207557  1.220499  1.000000\n",
       "14468  1.460254  1.278295  1.297004  1.000000\n",
       "14469  1.670098  1.381367  1.379889  1.989836\n",
       "14470  1.455978  1.281161  1.239557  1.494918\n",
       "\n",
       "[14471 rows x 4 columns]"
      ]
     },
     "execution_count": 36,
     "metadata": {},
     "output_type": "execute_result"
    }
   ],
   "source": [
    "valB_pred_blending"
   ]
  },
  {
   "cell_type": "code",
   "execution_count": 37,
   "metadata": {},
   "outputs": [
    {
     "name": "stdout",
     "output_type": "stream",
     "text": [
      "                                 OLS Regression Results                                \n",
      "=======================================================================================\n",
      "Dep. Variable:                 rating   R-squared (uncentered):                   0.926\n",
      "Model:                            OLS   Adj. R-squared (uncentered):              0.926\n",
      "Method:                 Least Squares   F-statistic:                          6.024e+04\n",
      "Date:                Thu, 29 Apr 2021   Prob (F-statistic):                        0.00\n",
      "Time:                        13:24:59   Log-Likelihood:                         -6645.7\n",
      "No. Observations:               14471   AIC:                                  1.330e+04\n",
      "Df Residuals:                   14468   BIC:                                  1.332e+04\n",
      "Df Model:                           3                                                  \n",
      "Covariance Type:            nonrobust                                                  \n",
      "==============================================================================\n",
      "                 coef    std err          t      P>|t|      [0.025      0.975]\n",
      "------------------------------------------------------------------------------\n",
      "cf             0.8376      0.011     79.087      0.000       0.817       0.858\n",
      "ols            0.0718      0.062      1.156      0.248      -0.050       0.193\n",
      "rf             0.0823      0.063      1.304      0.192      -0.041       0.206\n",
      "==============================================================================\n",
      "Omnibus:                     3327.871   Durbin-Watson:                   1.951\n",
      "Prob(Omnibus):                  0.000   Jarque-Bera (JB):            10946.231\n",
      "Skew:                           1.158   Prob(JB):                         0.00\n",
      "Kurtosis:                       6.577   Cond. No.                         64.0\n",
      "==============================================================================\n",
      "\n",
      "Warnings:\n",
      "[1] Standard Errors assume that the covariance matrix of the errors is correctly specified.\n"
     ]
    }
   ],
   "source": [
    "valB_blending_model = smf.ols(formula='rating ~ cf + ols + rf - 1', data=valB_pred_blending)\n",
    "valB_blending = valB_blending_model.fit()\n",
    "print(valB_blending.summary())"
   ]
  },
  {
   "cell_type": "code",
   "execution_count": 38,
   "metadata": {},
   "outputs": [
    {
     "data": {
      "text/html": [
       "<div>\n",
       "<style scoped>\n",
       "    .dataframe tbody tr th:only-of-type {\n",
       "        vertical-align: middle;\n",
       "    }\n",
       "\n",
       "    .dataframe tbody tr th {\n",
       "        vertical-align: top;\n",
       "    }\n",
       "\n",
       "    .dataframe thead th {\n",
       "        text-align: right;\n",
       "    }\n",
       "</style>\n",
       "<table border=\"1\" class=\"dataframe\">\n",
       "  <thead>\n",
       "    <tr style=\"text-align: right;\">\n",
       "      <th></th>\n",
       "      <th>cf</th>\n",
       "      <th>ols</th>\n",
       "      <th>rf</th>\n",
       "      <th>rating</th>\n",
       "    </tr>\n",
       "  </thead>\n",
       "  <tbody>\n",
       "    <tr>\n",
       "      <th>0</th>\n",
       "      <td>2.041785</td>\n",
       "      <td>1.313628</td>\n",
       "      <td>1.313691</td>\n",
       "      <td>1.989836</td>\n",
       "    </tr>\n",
       "    <tr>\n",
       "      <th>1</th>\n",
       "      <td>1.746666</td>\n",
       "      <td>1.408423</td>\n",
       "      <td>1.440233</td>\n",
       "      <td>1.784426</td>\n",
       "    </tr>\n",
       "    <tr>\n",
       "      <th>2</th>\n",
       "      <td>1.610096</td>\n",
       "      <td>1.381367</td>\n",
       "      <td>1.379889</td>\n",
       "      <td>1.784426</td>\n",
       "    </tr>\n",
       "    <tr>\n",
       "      <th>3</th>\n",
       "      <td>1.452155</td>\n",
       "      <td>1.132071</td>\n",
       "      <td>1.131495</td>\n",
       "      <td>1.000000</td>\n",
       "    </tr>\n",
       "    <tr>\n",
       "      <th>4</th>\n",
       "      <td>1.700693</td>\n",
       "      <td>1.310684</td>\n",
       "      <td>1.308723</td>\n",
       "      <td>1.784426</td>\n",
       "    </tr>\n",
       "  </tbody>\n",
       "</table>\n",
       "</div>"
      ],
      "text/plain": [
       "         cf       ols        rf    rating\n",
       "0  2.041785  1.313628  1.313691  1.989836\n",
       "1  1.746666  1.408423  1.440233  1.784426\n",
       "2  1.610096  1.381367  1.379889  1.784426\n",
       "3  1.452155  1.132071  1.131495  1.000000\n",
       "4  1.700693  1.310684  1.308723  1.784426"
      ]
     },
     "execution_count": 38,
     "metadata": {},
     "output_type": "execute_result"
    }
   ],
   "source": [
    "blend_test = pd.DataFrame(data = music_filled_matrix[music_test_mask]).rename(columns = {0: 'cf'})\n",
    "blend_test['ols'] = test_pred_ols.values\n",
    "blend_test['rf'] = test_pred_rf\n",
    "blend_test['rating'] = music_test['rating'].values\n",
    "blend_test.head()"
   ]
  },
  {
   "cell_type": "code",
   "execution_count": 39,
   "metadata": {},
   "outputs": [
    {
     "name": "stdout",
     "output_type": "stream",
     "text": [
      "MAE 0.07186751421722393 \n",
      "RMSE 0.09491430112521926 \n",
      "OSR2 0.32335515456393227 \n"
     ]
    }
   ],
   "source": [
    "valB_blend_on_test = valB_blending.predict(blend_test)\n",
    "test_mae_blend = np.mean(np.abs(music_test_mat[music_test_mask] - valB_blend_on_test))\n",
    "print(\"MAE %s \" % (test_mae_blend/4)) #Note that we normalize MAE and RMSE by the scale of the ratings, which is 5-1=4.\n",
    "\n",
    "test_mse_blend = np.mean((music_test_mat[music_test_mask] - valB_blend_on_test)**2)\n",
    "print(\"RMSE %s \" % (np.sqrt(test_mse_blend)/4))\n",
    "\n",
    "print(\"OSR2 %s \" % OSR2(test_mse_blend, baseline_mse))"
   ]
  },
  {
   "cell_type": "markdown",
   "metadata": {},
   "source": [
    "#### Yes, the blending added predictive performance if measuring by OSR2. The best OSR2 of an individual model was from the collaborative filtering model, 0.308 -- this model used data from each (user, song) pair. With blending, the OSR2 increased to 0.323. However, the MAE slightly increased and the RMSE barely decreased, so by those metrics, the features associated with songs did not add a lot of predictive power on top of the collaborative filtering model."
   ]
  }
 ],
 "metadata": {
  "kernelspec": {
   "display_name": "Python 3",
   "language": "python",
   "name": "python3"
  },
  "language_info": {
   "codemirror_mode": {
    "name": "ipython",
    "version": 3
   },
   "file_extension": ".py",
   "mimetype": "text/x-python",
   "name": "python",
   "nbconvert_exporter": "python",
   "pygments_lexer": "ipython3",
   "version": "3.8.8"
  }
 },
 "nbformat": 4,
 "nbformat_minor": 4
}
