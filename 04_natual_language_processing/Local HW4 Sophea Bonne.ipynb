{
 "cells": [
  {
   "cell_type": "code",
   "execution_count": 1,
   "metadata": {},
   "outputs": [],
   "source": [
    "import pandas as pd\n",
    "import numpy as np\n",
    "import matplotlib.pyplot as plt\n",
    "import seaborn as sns\n",
    "\n",
    "test = pd.read_csv('stack_stats_2020_test.csv')\n",
    "train = pd.read_csv('stack_stats_2020_train.csv')"
   ]
  },
  {
   "cell_type": "code",
   "execution_count": 2,
   "metadata": {},
   "outputs": [
    {
     "name": "stderr",
     "output_type": "stream",
     "text": [
      "[nltk_data] Downloading package stopwords to\n",
      "[nltk_data]     /Users/sophea/nltk_data...\n",
      "[nltk_data]   Package stopwords is already up-to-date!\n"
     ]
    },
    {
     "data": {
      "text/plain": [
       "True"
      ]
     },
     "execution_count": 2,
     "metadata": {},
     "output_type": "execute_result"
    }
   ],
   "source": [
    "import nltk\n",
    "nltk.download('stopwords')"
   ]
  },
  {
   "cell_type": "code",
   "execution_count": 3,
   "metadata": {},
   "outputs": [
    {
     "name": "stdout",
     "output_type": "stream",
     "text": [
      "Time:  2.844299999971156e-05\n"
     ]
    }
   ],
   "source": [
    "import timeit\n",
    "start = timeit.default_timer()\n",
    "stop = timeit.default_timer()\n",
    "print('Time: ', stop - start)"
   ]
  },
  {
   "cell_type": "code",
   "execution_count": 4,
   "metadata": {},
   "outputs": [],
   "source": [
    "from bs4 import BeautifulSoup"
   ]
  },
  {
   "cell_type": "code",
   "execution_count": 5,
   "metadata": {},
   "outputs": [
    {
     "name": "stdout",
     "output_type": "stream",
     "text": [
      "Time:  11.595823091\n"
     ]
    }
   ],
   "source": [
    "# (1ai) HTML text to plain text\n",
    "start = timeit.default_timer()\n",
    "text_train = train['Body']\n",
    "train['Body'] = text_train.apply(lambda text_train: BeautifulSoup(text_train, 'html.parser').get_text())\n",
    "stop = timeit.default_timer()\n",
    "print('Time: ', stop - start)"
   ]
  },
  {
   "cell_type": "code",
   "execution_count": 6,
   "metadata": {},
   "outputs": [
    {
     "name": "stdout",
     "output_type": "stream",
     "text": [
      "Time:  4.9449309029999995\n"
     ]
    },
    {
     "data": {
      "text/plain": [
       "0       So my problem is this:\\nI have a toleranced pa...\n",
       "1       Let x and y be complex Gaussian random vectors...\n",
       "2       I want to compare the model fitting properties...\n",
       "3       I do not understand the assumption 1,2,⋯ are i...\n",
       "4       Target encoding (aka mean or categorical encod...\n",
       "                              ...                        \n",
       "8244    I have collected bond yield data from 01/01/20...\n",
       "8245    In a population of 10000 people, there is a 2%...\n",
       "8246    \\n\\nI ran a multiple logistic regression model...\n",
       "8247    I conduct a staggered difference-in-difference...\n",
       "8248    X has a discrete distribution with support $x1...\n",
       "Name: Body, Length: 8249, dtype: object"
      ]
     },
     "execution_count": 6,
     "metadata": {},
     "output_type": "execute_result"
    }
   ],
   "source": [
    "start = timeit.default_timer()\n",
    "text_test = test['Body']\n",
    "test['Body'] = text_test.apply(lambda text_test: BeautifulSoup(text_test, 'html.parser').get_text())\n",
    "stop = timeit.default_timer()\n",
    "print('Time: ', stop - start)\n",
    "test['Body']\n"
   ]
  },
  {
   "cell_type": "code",
   "execution_count": 7,
   "metadata": {},
   "outputs": [
    {
     "data": {
      "text/plain": [
       "'I often hear that in a longitudinal multi-level analysis, time points (as a fixed factor) are \"nested\" within students (e.g., just search the word $nest$ in this paper). However, this great answer very clearly indicates that time points can\\'t be \"nested\" within a cluster (e.g., a student). Because, every cluster is planned to taste every time point in theory. So time points and students are crossed. Question: Is the use of the phrase time points are \"nested\" within students just sloppy language? If it is, how could we correctly describe the relation of the time points to students? '"
      ]
     },
     "execution_count": 7,
     "metadata": {},
     "output_type": "execute_result"
    }
   ],
   "source": [
    "# (1aii) Remove linebreak character\n",
    "train['Body'] = train['Body'].str.replace('\\n', ' ')\n",
    "test['Body'] = test['Body'].str.replace('\\n', ' ')\n",
    "train['Body'][0]"
   ]
  },
  {
   "cell_type": "code",
   "execution_count": 8,
   "metadata": {},
   "outputs": [
    {
     "data": {
      "text/plain": [
       "0        I often hear that in a longitudinal multi-leve...\n",
       "1        I have a normally distributed dataset and an a...\n",
       "2        I have created a random forest to classify a d...\n",
       "3        I have some issues with my linear difference-i...\n",
       "4        I have created a mixed model to model the numb...\n",
       "                               ...                        \n",
       "19242    I've read the post how Deriving the formula fo...\n",
       "19243    I am doing a study on three groups of students...\n",
       "19244    Is there a neural network that can take data f...\n",
       "19245    I am testing the following models. Volumes wer...\n",
       "19246    Mahalanobis distance provides a value that mig...\n",
       "Name: Body, Length: 19247, dtype: object"
      ]
     },
     "execution_count": 8,
     "metadata": {},
     "output_type": "execute_result"
    }
   ],
   "source": [
    "train['Body']"
   ]
  },
  {
   "cell_type": "code",
   "execution_count": 9,
   "metadata": {},
   "outputs": [],
   "source": [
    "# (1aiii) Transformations\n",
    "from string import punctuation\n",
    "\n",
    "def remove_punctuation(document):\n",
    "\n",
    "    no_punct = ''.join([character for character in document if character not in punctuation])\n",
    "    \n",
    "    return no_punct\n",
    "\n",
    "train['Tags'] = train['Tags'].str.replace('\\>', '')\n",
    "train['Tags'] = train['Tags'].str.replace('\\<', ' ')\n",
    "train['Tags'] = train['Tags'].apply(remove_punctuation)\n",
    "train['Body'] = train['Body'].apply(remove_punctuation)\n",
    "train['Title'] = train['Title'].apply(remove_punctuation)\n",
    "\n",
    "\n",
    "\n",
    "test['Tags'] = test['Tags'].str.replace('\\>', '')\n",
    "test['Tags'] = test['Tags'].str.replace('\\<', ' ')\n",
    "test['Tags'] = test['Tags'].apply(remove_punctuation)\n",
    "test['Body'] = test['Body'].apply(remove_punctuation)\n",
    "test['Title'] = test['Title'].apply(remove_punctuation)\n"
   ]
  },
  {
   "cell_type": "code",
   "execution_count": 92,
   "metadata": {},
   "outputs": [
    {
     "data": {
      "text/html": [
       "<div>\n",
       "<style scoped>\n",
       "    .dataframe tbody tr th:only-of-type {\n",
       "        vertical-align: middle;\n",
       "    }\n",
       "\n",
       "    .dataframe tbody tr th {\n",
       "        vertical-align: top;\n",
       "    }\n",
       "\n",
       "    .dataframe thead th {\n",
       "        text-align: right;\n",
       "    }\n",
       "</style>\n",
       "<table border=\"1\" class=\"dataframe\">\n",
       "  <thead>\n",
       "    <tr style=\"text-align: right;\">\n",
       "      <th></th>\n",
       "      <th>Id</th>\n",
       "      <th>Score</th>\n",
       "      <th>Body</th>\n",
       "      <th>Title</th>\n",
       "      <th>Tags</th>\n",
       "    </tr>\n",
       "  </thead>\n",
       "  <tbody>\n",
       "    <tr>\n",
       "      <th>0</th>\n",
       "      <td>475417</td>\n",
       "      <td>5</td>\n",
       "      <td>[often, hear, longitudin, multilevel, analysi,...</td>\n",
       "      <td>[time, point, nest, student, cross, longitudin...</td>\n",
       "      <td>[r, mixedmodel, lmenlm, repeatedmeasur, multil...</td>\n",
       "    </tr>\n",
       "    <tr>\n",
       "      <th>1</th>\n",
       "      <td>454969</td>\n",
       "      <td>1</td>\n",
       "      <td>[normal, distribut, dataset, associ, systemat,...</td>\n",
       "      <td>[find, confid, level, given, confid, interv]</td>\n",
       "      <td>[r, probabl, normaldistribut, confidenceinterv]</td>\n",
       "    </tr>\n",
       "    <tr>\n",
       "      <th>2</th>\n",
       "      <td>475651</td>\n",
       "      <td>0</td>\n",
       "      <td>[creat, random, forest, classifi, dataset, var...</td>\n",
       "      <td>[random, forest, classifi, bound, specif, type...</td>\n",
       "      <td>[randomforest, featureselect, error]</td>\n",
       "    </tr>\n",
       "    <tr>\n",
       "      <th>3</th>\n",
       "      <td>474736</td>\n",
       "      <td>0</td>\n",
       "      <td>[issu, linear, differenceindiffer, analys, out...</td>\n",
       "      <td>[back, transform, ln, log, interpret, result]</td>\n",
       "      <td>[regress, logist, multipleregress, logarithm, ...</td>\n",
       "    </tr>\n",
       "    <tr>\n",
       "      <th>4</th>\n",
       "      <td>471570</td>\n",
       "      <td>1</td>\n",
       "      <td>[creat, mix, model, model, number, job, differ...</td>\n",
       "      <td>[interpret, dotplot, mix, model]</td>\n",
       "      <td>[r, regress, multilevelanalysi, model]</td>\n",
       "    </tr>\n",
       "    <tr>\n",
       "      <th>...</th>\n",
       "      <td>...</td>\n",
       "      <td>...</td>\n",
       "      <td>...</td>\n",
       "      <td>...</td>\n",
       "      <td>...</td>\n",
       "    </tr>\n",
       "    <tr>\n",
       "      <th>19242</th>\n",
       "      <td>458986</td>\n",
       "      <td>0</td>\n",
       "      <td>[ive, read, post, deriv, formula, onpolici, di...</td>\n",
       "      <td>[doubt, formula, “, onpolici, distribut, episo...</td>\n",
       "      <td>[machinelearn, distribut, reinforcementlearn]</td>\n",
       "    </tr>\n",
       "    <tr>\n",
       "      <th>19243</th>\n",
       "      <td>493130</td>\n",
       "      <td>0</td>\n",
       "      <td>[studi, three, group, student, differ, hear, l...</td>\n",
       "      <td>[statist, model, use, three, group, ten, parti...</td>\n",
       "      <td>[regress, anova]</td>\n",
       "    </tr>\n",
       "    <tr>\n",
       "      <th>19244</th>\n",
       "      <td>467849</td>\n",
       "      <td>0</td>\n",
       "      <td>[neural, network, take, data, one, distribut, ...</td>\n",
       "      <td>[neural, network, domainstyl, transform]</td>\n",
       "      <td>[neuralnetwork, datatransform, domainadapt]</td>\n",
       "    </tr>\n",
       "    <tr>\n",
       "      <th>19245</th>\n",
       "      <td>443560</td>\n",
       "      <td>2</td>\n",
       "      <td>[test, follow, model, volum, purpos, log, tran...</td>\n",
       "      <td>[report, pvalu, standard, unstandard, beta, di...</td>\n",
       "      <td>[statisticalsignific, multipleregress, pvalu, ...</td>\n",
       "    </tr>\n",
       "    <tr>\n",
       "      <th>19246</th>\n",
       "      <td>482314</td>\n",
       "      <td>1</td>\n",
       "      <td>[mahalanobi, distanc, provid, valu, might, use...</td>\n",
       "      <td>[direct, outlier, detect, mahalanobi, distanc]</td>\n",
       "      <td>[outlier, distanc, anomalydetect]</td>\n",
       "    </tr>\n",
       "  </tbody>\n",
       "</table>\n",
       "<p>19247 rows × 5 columns</p>\n",
       "</div>"
      ],
      "text/plain": [
       "           Id  Score                                               Body  \\\n",
       "0      475417      5  [often, hear, longitudin, multilevel, analysi,...   \n",
       "1      454969      1  [normal, distribut, dataset, associ, systemat,...   \n",
       "2      475651      0  [creat, random, forest, classifi, dataset, var...   \n",
       "3      474736      0  [issu, linear, differenceindiffer, analys, out...   \n",
       "4      471570      1  [creat, mix, model, model, number, job, differ...   \n",
       "...       ...    ...                                                ...   \n",
       "19242  458986      0  [ive, read, post, deriv, formula, onpolici, di...   \n",
       "19243  493130      0  [studi, three, group, student, differ, hear, l...   \n",
       "19244  467849      0  [neural, network, take, data, one, distribut, ...   \n",
       "19245  443560      2  [test, follow, model, volum, purpos, log, tran...   \n",
       "19246  482314      1  [mahalanobi, distanc, provid, valu, might, use...   \n",
       "\n",
       "                                                   Title  \\\n",
       "0      [time, point, nest, student, cross, longitudin...   \n",
       "1           [find, confid, level, given, confid, interv]   \n",
       "2      [random, forest, classifi, bound, specif, type...   \n",
       "3          [back, transform, ln, log, interpret, result]   \n",
       "4                       [interpret, dotplot, mix, model]   \n",
       "...                                                  ...   \n",
       "19242  [doubt, formula, “, onpolici, distribut, episo...   \n",
       "19243  [statist, model, use, three, group, ten, parti...   \n",
       "19244           [neural, network, domainstyl, transform]   \n",
       "19245  [report, pvalu, standard, unstandard, beta, di...   \n",
       "19246     [direct, outlier, detect, mahalanobi, distanc]   \n",
       "\n",
       "                                                    Tags  \n",
       "0      [r, mixedmodel, lmenlm, repeatedmeasur, multil...  \n",
       "1        [r, probabl, normaldistribut, confidenceinterv]  \n",
       "2                   [randomforest, featureselect, error]  \n",
       "3      [regress, logist, multipleregress, logarithm, ...  \n",
       "4                 [r, regress, multilevelanalysi, model]  \n",
       "...                                                  ...  \n",
       "19242      [machinelearn, distribut, reinforcementlearn]  \n",
       "19243                                   [regress, anova]  \n",
       "19244        [neuralnetwork, datatransform, domainadapt]  \n",
       "19245  [statisticalsignific, multipleregress, pvalu, ...  \n",
       "19246                  [outlier, distanc, anomalydetect]  \n",
       "\n",
       "[19247 rows x 5 columns]"
      ]
     },
     "execution_count": 92,
     "metadata": {},
     "output_type": "execute_result"
    }
   ],
   "source": [
    "train "
   ]
  },
  {
   "cell_type": "markdown",
   "metadata": {},
   "source": [
    "### 1a.iv Cleaning, Document Term Matrices"
   ]
  },
  {
   "cell_type": "code",
   "execution_count": 11,
   "metadata": {},
   "outputs": [
    {
     "name": "stderr",
     "output_type": "stream",
     "text": [
      "[nltk_data] Downloading package punkt to /Users/sophea/nltk_data...\n",
      "[nltk_data]   Package punkt is already up-to-date!\n"
     ]
    },
    {
     "data": {
      "text/plain": [
       "True"
      ]
     },
     "execution_count": 11,
     "metadata": {},
     "output_type": "execute_result"
    }
   ],
   "source": [
    "import nltk\n",
    "nltk.download('punkt')"
   ]
  },
  {
   "cell_type": "code",
   "execution_count": 12,
   "metadata": {},
   "outputs": [],
   "source": [
    "#lower case, remove digits\n",
    "\n",
    "def remove_digit(document): \n",
    "    \n",
    "    no_digit = ''.join([character for character in document if not character.isdigit()])\n",
    "              \n",
    "    return no_digit\n",
    "\n",
    "train['Body'] = train['Body'].apply(str.lower).apply(remove_digit)\n",
    "train['Tags'] = train['Tags'].apply(str.lower).apply(remove_digit)\n",
    "train['Title'] = train['Title'].apply(str.lower).apply(remove_digit)\n",
    "\n",
    "test['Body'] = test['Body'].apply(str.lower).apply(remove_digit)\n",
    "test['Tags'] = test['Tags'].apply(str.lower).apply(remove_digit)\n",
    "test['Title'] = test['Title'].apply(str.lower).apply(remove_digit)"
   ]
  },
  {
   "cell_type": "code",
   "execution_count": 13,
   "metadata": {},
   "outputs": [],
   "source": [
    "#Tokenization\n",
    "\n",
    "from nltk.tokenize import word_tokenize\n",
    "\n",
    "text_tokenized = train['Tags'].apply(word_tokenize)\n",
    "text_tokenized.head()\n",
    "\n",
    "#Remove Stopwords\n",
    "from nltk.corpus import stopwords\n",
    "\n",
    "stop_words = nltk.corpus.stopwords.words('english')\n",
    "\n",
    "stop_words.append(['stack', 'overflow', 'exchange'])\n",
    "\n",
    "def remove_stopwords(document):\n",
    "    \n",
    "    words = [word for word in document if not word in stop_words]\n",
    "    \n",
    "    return words\n",
    "\n",
    "text_no_stop = text_tokenized.apply(remove_stopwords)\n",
    "text_no_stop\n",
    "\n",
    "#Stemming\n",
    "from nltk.stem import PorterStemmer\n",
    "\n",
    "porter = PorterStemmer()\n",
    "\n",
    "def stemmer(document):\n",
    "    \n",
    "    stemmed_document = [porter.stem(word) for word in document]\n",
    "    \n",
    "    return stemmed_document\n",
    "train['Body'] = train['Body'].apply(word_tokenize).apply(remove_stopwords).apply(stemmer)\n",
    "train['Tags'] = train['Tags'].apply(word_tokenize).apply(remove_stopwords).apply(stemmer)\n",
    "train['Title'] = train['Title'].apply(word_tokenize).apply(remove_stopwords).apply(stemmer)\n",
    "\n",
    "test['Body'] = test['Body'].apply(word_tokenize).apply(remove_stopwords).apply(stemmer)\n",
    "test['Tags'] = test['Tags'].apply(word_tokenize).apply(remove_stopwords).apply(stemmer)\n",
    "test['Title'] = test['Title'].apply(word_tokenize).apply(remove_stopwords).apply(stemmer)"
   ]
  },
  {
   "cell_type": "code",
   "execution_count": 14,
   "metadata": {},
   "outputs": [
    {
     "data": {
      "text/plain": [
       "['creat',\n",
       " 'random',\n",
       " 'forest',\n",
       " 'classifi',\n",
       " 'dataset',\n",
       " 'variabl',\n",
       " 'sampl',\n",
       " 'featur',\n",
       " 'select',\n",
       " 'boruta',\n",
       " 'packag',\n",
       " 'variabl',\n",
       " 'select',\n",
       " 'problem',\n",
       " 'matter',\n",
       " 'chang',\n",
       " 'partit',\n",
       " 'data',\n",
       " 'matter',\n",
       " 'mani',\n",
       " 'variabl',\n",
       " 'use',\n",
       " 'build',\n",
       " 'model',\n",
       " 'confus',\n",
       " 'matrix',\n",
       " 'alway',\n",
       " 'end',\n",
       " 'good',\n",
       " 'respons',\n",
       " 'classifi',\n",
       " 'poor',\n",
       " 'train',\n",
       " 'model',\n",
       " 'variabl',\n",
       " 'get',\n",
       " 'setse',\n",
       " 'indsampl',\n",
       " 'nrowdata',\n",
       " 'replacet',\n",
       " 'probc',\n",
       " 'traindataind',\n",
       " 'testdataind',\n",
       " 'setse',\n",
       " 'rfrandomforestrespons',\n",
       " 'datatrain',\n",
       " 'predictpredictrf',\n",
       " 'test',\n",
       " 'confusionmatrixpredict',\n",
       " 'testrespons',\n",
       " 'confus',\n",
       " 'matrix',\n",
       " 'statist',\n",
       " 'refer',\n",
       " 'predict',\n",
       " 'good',\n",
       " 'poor',\n",
       " 'good',\n",
       " 'poor',\n",
       " 'accuraci',\n",
       " 'ci',\n",
       " 'inform',\n",
       " 'rate',\n",
       " 'pvalu',\n",
       " 'acc',\n",
       " 'nir',\n",
       " 'kappa',\n",
       " 'mcnemar',\n",
       " 'test',\n",
       " 'pvalu',\n",
       " 'sensit',\n",
       " 'specif',\n",
       " 'po',\n",
       " 'pred',\n",
       " 'valu',\n",
       " 'nan',\n",
       " 'neg',\n",
       " 'pred',\n",
       " 'valu',\n",
       " 'preval',\n",
       " 'detect',\n",
       " 'rate',\n",
       " 'detect',\n",
       " 'preval',\n",
       " 'balanc',\n",
       " 'accuraci',\n",
       " 'posit',\n",
       " 'class',\n",
       " 'good',\n",
       " 'train',\n",
       " 'three',\n",
       " 'variabl',\n",
       " 'get',\n",
       " 'setse',\n",
       " 'indsampl',\n",
       " 'nrowdata',\n",
       " 'replacet',\n",
       " 'probc',\n",
       " 'traindataind',\n",
       " 'testdataind',\n",
       " 'setse',\n",
       " 'rfrandomforestresponsev',\n",
       " 'v',\n",
       " 'v',\n",
       " 'datatrain',\n",
       " 'predictpredictrf',\n",
       " 'test',\n",
       " 'confusionmatrixpredict',\n",
       " 'testrespons',\n",
       " 'confus',\n",
       " 'matrix',\n",
       " 'statist',\n",
       " 'refer',\n",
       " 'predict',\n",
       " 'good',\n",
       " 'poor',\n",
       " 'good',\n",
       " 'poor',\n",
       " 'accuraci',\n",
       " 'ci',\n",
       " 'inform',\n",
       " 'rate',\n",
       " 'pvalu',\n",
       " 'acc',\n",
       " 'nir',\n",
       " 'kappa',\n",
       " 'mcnemar',\n",
       " 'test',\n",
       " 'pvalu',\n",
       " 'sensit',\n",
       " 'specif',\n",
       " 'po',\n",
       " 'pred',\n",
       " 'valu',\n",
       " 'nan',\n",
       " 'neg',\n",
       " 'pred',\n",
       " 'valu',\n",
       " 'preval',\n",
       " 'detect',\n",
       " 'rate',\n",
       " 'detect',\n",
       " 'preval',\n",
       " 'balanc',\n",
       " 'accuraci',\n",
       " 'posit',\n",
       " 'class',\n",
       " 'good',\n",
       " 'divid',\n",
       " 'train',\n",
       " 'data',\n",
       " 'get',\n",
       " 'setse',\n",
       " 'indsampl',\n",
       " 'nrowdata',\n",
       " 'replacet',\n",
       " 'probc',\n",
       " 'traindataind',\n",
       " 'testdataind',\n",
       " 'setse',\n",
       " 'rfrandomforestrespons',\n",
       " 'v',\n",
       " 'v',\n",
       " 'v',\n",
       " 'datatrain',\n",
       " 'predictpredictrf',\n",
       " 'test',\n",
       " 'confusionmatrixpredict',\n",
       " 'testrespons',\n",
       " 'confus',\n",
       " 'matrix',\n",
       " 'statist',\n",
       " 'refer',\n",
       " 'predict',\n",
       " 'good',\n",
       " 'poor',\n",
       " 'good',\n",
       " 'poor',\n",
       " 'accuraci',\n",
       " 'ci',\n",
       " 'inform',\n",
       " 'rate',\n",
       " 'pvalu',\n",
       " 'acc',\n",
       " 'nir',\n",
       " 'kappa',\n",
       " 'mcnemar',\n",
       " 'test',\n",
       " 'pvalu',\n",
       " 'sensit',\n",
       " 'specif',\n",
       " 'po',\n",
       " 'pred',\n",
       " 'valu',\n",
       " 'nan',\n",
       " 'neg',\n",
       " 'pred',\n",
       " 'valu',\n",
       " 'preval',\n",
       " 'detect',\n",
       " 'rate',\n",
       " 'detect',\n",
       " 'preval',\n",
       " 'balanc',\n",
       " 'accuraci',\n",
       " 'posit',\n",
       " 'class',\n",
       " 'good',\n",
       " 'strang',\n",
       " 'matter',\n",
       " 'chang',\n",
       " 'paramet',\n",
       " 'alway',\n",
       " 'end',\n",
       " 'misclassifi',\n",
       " 'good',\n",
       " 'respons',\n",
       " 'poor',\n",
       " 'know',\n",
       " 'seem',\n",
       " 'problem',\n",
       " 'fix']"
      ]
     },
     "execution_count": 14,
     "metadata": {},
     "output_type": "execute_result"
    }
   ],
   "source": [
    "train['Body'][2]"
   ]
  },
  {
   "cell_type": "markdown",
   "metadata": {},
   "source": [
    "#### Document-Term Matrix"
   ]
  },
  {
   "cell_type": "code",
   "execution_count": 15,
   "metadata": {},
   "outputs": [
    {
     "data": {
      "text/plain": [
       "0       [often, hear, longitudin, multilevel, analysi,...\n",
       "1       [normal, distribut, dataset, associ, systemat,...\n",
       "2       [creat, random, forest, classifi, dataset, var...\n",
       "3       [issu, linear, differenceindiffer, analys, out...\n",
       "4       [creat, mix, model, model, number, job, differ...\n",
       "                              ...                        \n",
       "8244    [collect, bond, yield, data, sever, eurozon, c...\n",
       "8245    [popul, peopl, chanc, someon, cancer, fals, po...\n",
       "8246    [ran, multipl, logist, regress, model, second,...\n",
       "8247    [conduct, stagger, differenceindiffer, analysi...\n",
       "8248    [x, discret, distribut, support, x, x, right, ...\n",
       "Name: Body, Length: 27496, dtype: object"
      ]
     },
     "execution_count": 15,
     "metadata": {},
     "output_type": "execute_result"
    }
   ],
   "source": [
    "concat_body = pd.concat([train['Body'], test['Body']]) #, keys=['train', 'test'])\n",
    "concat_tags = pd.concat([train['Tags'], test['Tags']]) #, keys=['train', 'test'])\n",
    "concat_title = pd.concat([train['Title'], test['Title']]) #, keys=['train', 'test'])\n",
    "\n",
    "concat_body#['train']"
   ]
  },
  {
   "cell_type": "code",
   "execution_count": 16,
   "metadata": {},
   "outputs": [],
   "source": [
    "# Detokenization\n",
    "from nltk.tokenize.treebank import TreebankWordDetokenizer\n",
    "\n",
    "body = concat_body.apply(TreebankWordDetokenizer().detokenize)\n",
    "tags = concat_tags.apply(TreebankWordDetokenizer().detokenize)\n",
    "title = concat_title.apply(TreebankWordDetokenizer().detokenize)\n",
    "\n",
    "# train['Body'] = train['Body'].apply(TreebankWordDetokenizer().detokenize)\n",
    "# train['Tags'] = train['Tags'].apply(TreebankWordDetokenizer().detokenize)\n",
    "# train['Title'] = train['Title'].apply(TreebankWordDetokenizer().detokenize)\n",
    "\n",
    "# test['Body'] = test['Body'].apply(TreebankWordDetokenizer().detokenize)\n",
    "# train['Tags'] = test['Tags'].apply(TreebankWordDetokenizer().detokenize)\n",
    "# test['Title'] = test['Title'].apply(TreebankWordDetokenizer().detokenize)"
   ]
  },
  {
   "cell_type": "code",
   "execution_count": 141,
   "metadata": {},
   "outputs": [
    {
     "data": {
      "text/html": [
       "<div>\n",
       "<style scoped>\n",
       "    .dataframe tbody tr th:only-of-type {\n",
       "        vertical-align: middle;\n",
       "    }\n",
       "\n",
       "    .dataframe tbody tr th {\n",
       "        vertical-align: top;\n",
       "    }\n",
       "\n",
       "    .dataframe thead th {\n",
       "        text-align: right;\n",
       "    }\n",
       "</style>\n",
       "<table border=\"1\" class=\"dataframe\">\n",
       "  <thead>\n",
       "    <tr style=\"text-align: right;\">\n",
       "      <th></th>\n",
       "      <th>abl_body</th>\n",
       "      <th>accord_body</th>\n",
       "      <th>account_body</th>\n",
       "      <th>accuraci_body</th>\n",
       "      <th>across_body</th>\n",
       "      <th>actual_body</th>\n",
       "      <th>ad_body</th>\n",
       "      <th>add_body</th>\n",
       "      <th>addit_body</th>\n",
       "      <th>adjust_body</th>\n",
       "      <th>...</th>\n",
       "      <th>work_body</th>\n",
       "      <th>would_body</th>\n",
       "      <th>write_body</th>\n",
       "      <th>wrong_body</th>\n",
       "      <th>xi_body</th>\n",
       "      <th>ye_body</th>\n",
       "      <th>year_body</th>\n",
       "      <th>yet_body</th>\n",
       "      <th>yi_body</th>\n",
       "      <th>zero_body</th>\n",
       "    </tr>\n",
       "  </thead>\n",
       "  <tbody>\n",
       "    <tr>\n",
       "      <th>0</th>\n",
       "      <td>0</td>\n",
       "      <td>0</td>\n",
       "      <td>0</td>\n",
       "      <td>0</td>\n",
       "      <td>0</td>\n",
       "      <td>0</td>\n",
       "      <td>0</td>\n",
       "      <td>0</td>\n",
       "      <td>0</td>\n",
       "      <td>0</td>\n",
       "      <td>...</td>\n",
       "      <td>0</td>\n",
       "      <td>0</td>\n",
       "      <td>0</td>\n",
       "      <td>0</td>\n",
       "      <td>0</td>\n",
       "      <td>0</td>\n",
       "      <td>0</td>\n",
       "      <td>0</td>\n",
       "      <td>0</td>\n",
       "      <td>0</td>\n",
       "    </tr>\n",
       "    <tr>\n",
       "      <th>1</th>\n",
       "      <td>0</td>\n",
       "      <td>0</td>\n",
       "      <td>0</td>\n",
       "      <td>0</td>\n",
       "      <td>0</td>\n",
       "      <td>0</td>\n",
       "      <td>0</td>\n",
       "      <td>0</td>\n",
       "      <td>0</td>\n",
       "      <td>0</td>\n",
       "      <td>...</td>\n",
       "      <td>1</td>\n",
       "      <td>1</td>\n",
       "      <td>0</td>\n",
       "      <td>0</td>\n",
       "      <td>0</td>\n",
       "      <td>0</td>\n",
       "      <td>0</td>\n",
       "      <td>0</td>\n",
       "      <td>0</td>\n",
       "      <td>0</td>\n",
       "    </tr>\n",
       "    <tr>\n",
       "      <th>2</th>\n",
       "      <td>0</td>\n",
       "      <td>0</td>\n",
       "      <td>0</td>\n",
       "      <td>6</td>\n",
       "      <td>0</td>\n",
       "      <td>0</td>\n",
       "      <td>0</td>\n",
       "      <td>0</td>\n",
       "      <td>0</td>\n",
       "      <td>0</td>\n",
       "      <td>...</td>\n",
       "      <td>0</td>\n",
       "      <td>0</td>\n",
       "      <td>0</td>\n",
       "      <td>0</td>\n",
       "      <td>0</td>\n",
       "      <td>0</td>\n",
       "      <td>0</td>\n",
       "      <td>0</td>\n",
       "      <td>0</td>\n",
       "      <td>0</td>\n",
       "    </tr>\n",
       "    <tr>\n",
       "      <th>3</th>\n",
       "      <td>0</td>\n",
       "      <td>0</td>\n",
       "      <td>0</td>\n",
       "      <td>0</td>\n",
       "      <td>0</td>\n",
       "      <td>0</td>\n",
       "      <td>0</td>\n",
       "      <td>0</td>\n",
       "      <td>0</td>\n",
       "      <td>0</td>\n",
       "      <td>...</td>\n",
       "      <td>0</td>\n",
       "      <td>0</td>\n",
       "      <td>0</td>\n",
       "      <td>0</td>\n",
       "      <td>0</td>\n",
       "      <td>1</td>\n",
       "      <td>0</td>\n",
       "      <td>0</td>\n",
       "      <td>0</td>\n",
       "      <td>0</td>\n",
       "    </tr>\n",
       "    <tr>\n",
       "      <th>4</th>\n",
       "      <td>0</td>\n",
       "      <td>0</td>\n",
       "      <td>0</td>\n",
       "      <td>0</td>\n",
       "      <td>0</td>\n",
       "      <td>0</td>\n",
       "      <td>2</td>\n",
       "      <td>0</td>\n",
       "      <td>0</td>\n",
       "      <td>0</td>\n",
       "      <td>...</td>\n",
       "      <td>0</td>\n",
       "      <td>0</td>\n",
       "      <td>0</td>\n",
       "      <td>0</td>\n",
       "      <td>0</td>\n",
       "      <td>0</td>\n",
       "      <td>3</td>\n",
       "      <td>0</td>\n",
       "      <td>0</td>\n",
       "      <td>0</td>\n",
       "    </tr>\n",
       "    <tr>\n",
       "      <th>...</th>\n",
       "      <td>...</td>\n",
       "      <td>...</td>\n",
       "      <td>...</td>\n",
       "      <td>...</td>\n",
       "      <td>...</td>\n",
       "      <td>...</td>\n",
       "      <td>...</td>\n",
       "      <td>...</td>\n",
       "      <td>...</td>\n",
       "      <td>...</td>\n",
       "      <td>...</td>\n",
       "      <td>...</td>\n",
       "      <td>...</td>\n",
       "      <td>...</td>\n",
       "      <td>...</td>\n",
       "      <td>...</td>\n",
       "      <td>...</td>\n",
       "      <td>...</td>\n",
       "      <td>...</td>\n",
       "      <td>...</td>\n",
       "      <td>...</td>\n",
       "    </tr>\n",
       "    <tr>\n",
       "      <th>8244</th>\n",
       "      <td>0</td>\n",
       "      <td>0</td>\n",
       "      <td>0</td>\n",
       "      <td>0</td>\n",
       "      <td>0</td>\n",
       "      <td>0</td>\n",
       "      <td>0</td>\n",
       "      <td>0</td>\n",
       "      <td>0</td>\n",
       "      <td>0</td>\n",
       "      <td>...</td>\n",
       "      <td>0</td>\n",
       "      <td>3</td>\n",
       "      <td>0</td>\n",
       "      <td>0</td>\n",
       "      <td>0</td>\n",
       "      <td>0</td>\n",
       "      <td>0</td>\n",
       "      <td>0</td>\n",
       "      <td>0</td>\n",
       "      <td>0</td>\n",
       "    </tr>\n",
       "    <tr>\n",
       "      <th>8245</th>\n",
       "      <td>0</td>\n",
       "      <td>0</td>\n",
       "      <td>0</td>\n",
       "      <td>0</td>\n",
       "      <td>0</td>\n",
       "      <td>1</td>\n",
       "      <td>0</td>\n",
       "      <td>0</td>\n",
       "      <td>0</td>\n",
       "      <td>0</td>\n",
       "      <td>...</td>\n",
       "      <td>0</td>\n",
       "      <td>1</td>\n",
       "      <td>0</td>\n",
       "      <td>0</td>\n",
       "      <td>0</td>\n",
       "      <td>0</td>\n",
       "      <td>0</td>\n",
       "      <td>0</td>\n",
       "      <td>0</td>\n",
       "      <td>0</td>\n",
       "    </tr>\n",
       "    <tr>\n",
       "      <th>8246</th>\n",
       "      <td>0</td>\n",
       "      <td>0</td>\n",
       "      <td>0</td>\n",
       "      <td>0</td>\n",
       "      <td>0</td>\n",
       "      <td>0</td>\n",
       "      <td>0</td>\n",
       "      <td>0</td>\n",
       "      <td>0</td>\n",
       "      <td>0</td>\n",
       "      <td>...</td>\n",
       "      <td>0</td>\n",
       "      <td>0</td>\n",
       "      <td>0</td>\n",
       "      <td>0</td>\n",
       "      <td>0</td>\n",
       "      <td>0</td>\n",
       "      <td>0</td>\n",
       "      <td>0</td>\n",
       "      <td>0</td>\n",
       "      <td>0</td>\n",
       "    </tr>\n",
       "    <tr>\n",
       "      <th>8247</th>\n",
       "      <td>0</td>\n",
       "      <td>0</td>\n",
       "      <td>0</td>\n",
       "      <td>0</td>\n",
       "      <td>1</td>\n",
       "      <td>0</td>\n",
       "      <td>0</td>\n",
       "      <td>0</td>\n",
       "      <td>0</td>\n",
       "      <td>0</td>\n",
       "      <td>...</td>\n",
       "      <td>0</td>\n",
       "      <td>1</td>\n",
       "      <td>0</td>\n",
       "      <td>0</td>\n",
       "      <td>0</td>\n",
       "      <td>0</td>\n",
       "      <td>0</td>\n",
       "      <td>0</td>\n",
       "      <td>0</td>\n",
       "      <td>0</td>\n",
       "    </tr>\n",
       "    <tr>\n",
       "      <th>8248</th>\n",
       "      <td>0</td>\n",
       "      <td>0</td>\n",
       "      <td>0</td>\n",
       "      <td>0</td>\n",
       "      <td>0</td>\n",
       "      <td>0</td>\n",
       "      <td>0</td>\n",
       "      <td>0</td>\n",
       "      <td>0</td>\n",
       "      <td>0</td>\n",
       "      <td>...</td>\n",
       "      <td>0</td>\n",
       "      <td>0</td>\n",
       "      <td>0</td>\n",
       "      <td>0</td>\n",
       "      <td>1</td>\n",
       "      <td>0</td>\n",
       "      <td>0</td>\n",
       "      <td>0</td>\n",
       "      <td>0</td>\n",
       "      <td>0</td>\n",
       "    </tr>\n",
       "  </tbody>\n",
       "</table>\n",
       "<p>27496 rows × 523 columns</p>\n",
       "</div>"
      ],
      "text/plain": [
       "      abl_body  accord_body  account_body  accuraci_body  across_body  \\\n",
       "0            0            0             0              0            0   \n",
       "1            0            0             0              0            0   \n",
       "2            0            0             0              6            0   \n",
       "3            0            0             0              0            0   \n",
       "4            0            0             0              0            0   \n",
       "...        ...          ...           ...            ...          ...   \n",
       "8244         0            0             0              0            0   \n",
       "8245         0            0             0              0            0   \n",
       "8246         0            0             0              0            0   \n",
       "8247         0            0             0              0            1   \n",
       "8248         0            0             0              0            0   \n",
       "\n",
       "      actual_body  ad_body  add_body  addit_body  adjust_body  ...  work_body  \\\n",
       "0               0        0         0           0            0  ...          0   \n",
       "1               0        0         0           0            0  ...          1   \n",
       "2               0        0         0           0            0  ...          0   \n",
       "3               0        0         0           0            0  ...          0   \n",
       "4               0        2         0           0            0  ...          0   \n",
       "...           ...      ...       ...         ...          ...  ...        ...   \n",
       "8244            0        0         0           0            0  ...          0   \n",
       "8245            1        0         0           0            0  ...          0   \n",
       "8246            0        0         0           0            0  ...          0   \n",
       "8247            0        0         0           0            0  ...          0   \n",
       "8248            0        0         0           0            0  ...          0   \n",
       "\n",
       "      would_body  write_body  wrong_body  xi_body  ye_body  year_body  \\\n",
       "0              0           0           0        0        0          0   \n",
       "1              1           0           0        0        0          0   \n",
       "2              0           0           0        0        0          0   \n",
       "3              0           0           0        0        1          0   \n",
       "4              0           0           0        0        0          3   \n",
       "...          ...         ...         ...      ...      ...        ...   \n",
       "8244           3           0           0        0        0          0   \n",
       "8245           1           0           0        0        0          0   \n",
       "8246           0           0           0        0        0          0   \n",
       "8247           1           0           0        0        0          0   \n",
       "8248           0           0           0        1        0          0   \n",
       "\n",
       "      yet_body  yi_body  zero_body  \n",
       "0            0        0          0  \n",
       "1            0        0          0  \n",
       "2            0        0          0  \n",
       "3            0        0          0  \n",
       "4            0        0          0  \n",
       "...        ...      ...        ...  \n",
       "8244         0        0          0  \n",
       "8245         0        0          0  \n",
       "8246         0        0          0  \n",
       "8247         0        0          0  \n",
       "8248         0        0          0  \n",
       "\n",
       "[27496 rows x 523 columns]"
      ]
     },
     "execution_count": 141,
     "metadata": {},
     "output_type": "execute_result"
    }
   ],
   "source": [
    "dtm_body"
   ]
  },
  {
   "cell_type": "code",
   "execution_count": 60,
   "metadata": {},
   "outputs": [],
   "source": [
    "# Document-Term Matrix\n",
    "from sklearn.feature_extraction.text import CountVectorizer\n",
    "\n",
    "# I chose these values of min_df for the body so that my DataFrame of body has ~500 features. \n",
    "# For the title and tags, since most of their words are useful, I used a smaller min_df. \n",
    "countvec = CountVectorizer(min_df=0.02)\n",
    "countvec2 = CountVectorizer(min_df=0.01)\n",
    "countvec3 = CountVectorizer(min_df=0.01)\n",
    "\n",
    "sparse_dtm_body = countvec.fit_transform(body)\n",
    "sparse_dtm_tags = countvec2.fit_transform(tags)\n",
    "sparse_dtm_title = countvec3.fit_transform(title)"
   ]
  },
  {
   "cell_type": "code",
   "execution_count": 61,
   "metadata": {},
   "outputs": [],
   "source": [
    "sparse_dtm_body\n",
    "dtm_body = pd.DataFrame(sparse_dtm_body.toarray(), columns=countvec.get_feature_names(), index=body.index)"
   ]
  },
  {
   "cell_type": "code",
   "execution_count": 63,
   "metadata": {},
   "outputs": [],
   "source": [
    "dtm_body = pd.DataFrame(sparse_dtm_body.toarray(), columns=countvec.get_feature_names(), index=body.index)\n",
    "dtm_tags = pd.DataFrame(sparse_dtm_tags.toarray(), columns=countvec2.get_feature_names(), index=tags.index)\n",
    "dtm_title = pd.DataFrame(sparse_dtm_title.toarray(), columns=countvec3.get_feature_names(), index=title.index)\n",
    "\n",
    "new_col = []\n",
    "for col in dtm_body.columns:\n",
    "    new_col.append(col + '_body')\n",
    "dtm_body.columns = new_col\n",
    "\n",
    "new_col = []\n",
    "for col in dtm_tags.columns:\n",
    "    new_col.append(col + '_tags')\n",
    "dtm_tags.columns = new_col\n",
    "\n",
    "new_col = []\n",
    "for col in dtm_title.columns:\n",
    "    new_col.append(col + '_title')\n",
    "dtm_title.columns = new_col\n",
    "\n",
    "dtm_body_train, dtm_body_test = dtm_body.iloc[:19247,:], dtm_body.iloc[19247:,:]\n",
    "dtm_tags_train, dtm_tags_test = dtm_tags.iloc[:19247,:], dtm_tags.iloc[19247:,:]\n",
    "dtm_title_train, dtm_title_test = dtm_title.iloc[:19247,:], dtm_title.iloc[19247:,:]"
   ]
  },
  {
   "cell_type": "code",
   "execution_count": 66,
   "metadata": {},
   "outputs": [],
   "source": [
    "X_train = dtm_body_train.merge(dtm_tags_train, left_index = True, right_index = True).merge(dtm_title_train, left_index = True, right_index = True)\n",
    "X_test = dtm_body_test.merge(dtm_tags_test, left_index = True, right_index = True).merge(dtm_title_test, left_index = True, right_index = True)"
   ]
  },
  {
   "cell_type": "code",
   "execution_count": 67,
   "metadata": {},
   "outputs": [],
   "source": [
    "y_train = pd.Series([1 if score >= 1 else 0 for score in train['Score']])\n",
    "y_test = pd.Series([1 if score >= 1 else 0 for score in test['Score']])"
   ]
  },
  {
   "cell_type": "markdown",
   "metadata": {},
   "source": [
    "# Part B\n",
    "## 0. Baseline"
   ]
  },
  {
   "cell_type": "code",
   "execution_count": 68,
   "metadata": {},
   "outputs": [
    {
     "name": "stdout",
     "output_type": "stream",
     "text": [
      "0    9737\n",
      "1    9510\n",
      "dtype: int64\n",
      "0    4173\n",
      "1    4076\n",
      "dtype: int64\n",
      "ACC 0.5058795005455207\n",
      "Confusion Matrix: \n",
      " [[4173    0]\n",
      " [4076    0]]\n",
      "\n",
      "Accuracy: 0.5058795005455207\n"
     ]
    }
   ],
   "source": [
    "from sklearn.metrics import confusion_matrix\n",
    "from sklearn.metrics import accuracy_score\n",
    "\n",
    "print(y_train.value_counts())\n",
    "print(y_test.value_counts())\n",
    "# Baseline accuracy on test set\n",
    "print('ACC', 4173/(4173 + 4076)) #predict not useful = 0\n",
    "cm_baseline = confusion_matrix(y_test, [0]*y_test.shape[0])\n",
    "print (\"Confusion Matrix: \\n\", cm_baseline)\n",
    "print (\"\\nAccuracy:\", accuracy_score(y_test, [0]*y_test.shape[0]))"
   ]
  },
  {
   "cell_type": "markdown",
   "metadata": {},
   "source": [
    "## 1. Logistic Regression"
   ]
  },
  {
   "cell_type": "code",
   "execution_count": 69,
   "metadata": {},
   "outputs": [
    {
     "data": {
      "text/plain": [
       "LogisticRegression(max_iter=500, random_state=88)"
      ]
     },
     "execution_count": 69,
     "metadata": {},
     "output_type": "execute_result"
    }
   ],
   "source": [
    "from sklearn.linear_model import LogisticRegression\n",
    "\n",
    "logreg = LogisticRegression(random_state=88, max_iter = 500)\n",
    "logreg.fit(X_train, y_train)"
   ]
  },
  {
   "cell_type": "code",
   "execution_count": 70,
   "metadata": {},
   "outputs": [
    {
     "name": "stdout",
     "output_type": "stream",
     "text": [
      "Confusion Matrix: \n",
      " [[2584 1589]\n",
      " [1972 2104]]\n",
      "\n",
      "Accuracy: 0.5683113104618742\n"
     ]
    }
   ],
   "source": [
    "y_prob = logreg.predict_proba(X_test)\n",
    "y_pred_logit = pd.Series([1 if x > 0.5 else 0 for x in y_prob[:,1]], index=y_test.index)\n",
    "\n",
    "cm_logit = confusion_matrix(y_test, y_pred_logit)\n",
    "print (\"Confusion Matrix: \\n\", cm_logit)\n",
    "print (\"\\nAccuracy:\", accuracy_score(y_test, y_pred_logit))"
   ]
  },
  {
   "cell_type": "markdown",
   "metadata": {},
   "source": [
    "## 2. Decision Tree Classifier w CV"
   ]
  },
  {
   "cell_type": "code",
   "execution_count": 326,
   "metadata": {},
   "outputs": [
    {
     "name": "stdout",
     "output_type": "stream",
     "text": [
      "time: 1292.75 s\n"
     ]
    }
   ],
   "source": [
    "from sklearn.model_selection import GridSearchCV\n",
    "from sklearn.tree import DecisionTreeClassifier\n",
    "import time\n",
    "\n",
    "tic = time.time()\n",
    "\n",
    "# This range of values already took me 22 minutes to compute, so I did not want to test even more data points.\n",
    "grid_values = {'ccp_alpha': np.linspace(0, 0.02, 50)}\n",
    "\n",
    "dtc = DecisionTreeClassifier(random_state=88)\n",
    "dtc_cv = GridSearchCV(dtc, param_grid=grid_values, cv=5).fit(X_train, y_train)\n",
    "\n",
    "toc = time.time()\n",
    "print('time:', round(toc-tic, 2),'s')\n"
   ]
  },
  {
   "cell_type": "code",
   "execution_count": 327,
   "metadata": {},
   "outputs": [
    {
     "data": {
      "image/png": "[encoded data removed]",
      "text/plain": [
       "<Figure size 576x432 with 1 Axes>"
      ]
     },
     "metadata": {
      "needs_background": "light"
     },
     "output_type": "display_data"
    },
    {
     "name": "stdout",
     "output_type": "stream",
     "text": [
      "Best ccp_alpha {'ccp_alpha': 0.0008163265306122449}\n"
     ]
    }
   ],
   "source": [
    "ccp_alpha = dtc_cv.cv_results_['param_ccp_alpha'].data\n",
    "ACC_scores = dtc_cv.cv_results_['mean_test_score']\n",
    "\n",
    "plt.figure(figsize=(8, 6))\n",
    "plt.xlabel('ccp_alpha', fontsize=16)\n",
    "plt.ylabel('CV Accuracy', fontsize=16)\n",
    "plt.scatter(ccp_alpha, ACC_scores, s=3)\n",
    "plt.plot(ccp_alpha, ACC_scores, linewidth=3)\n",
    "plt.grid(True, which='both')\n",
    "\n",
    "plt.tight_layout()\n",
    "plt.show()\n",
    "\n",
    "print('Best ccp_alpha', dtc_cv.best_params_)"
   ]
  },
  {
   "cell_type": "code",
   "execution_count": 328,
   "metadata": {},
   "outputs": [
    {
     "name": "stdout",
     "output_type": "stream",
     "text": [
      "Confusion Matrix: \n",
      " [[2821 1352]\n",
      " [2406 1670]]\n",
      "\n",
      "Accuracy: 0.5444296278336768\n"
     ]
    }
   ],
   "source": [
    "y_pred_dtc = dtc_cv.predict(X_test)\n",
    "cm_dtc = confusion_matrix(y_test, y_pred_dtc)\n",
    "print (\"Confusion Matrix: \\n\", cm_dtc)\n",
    "print (\"\\nAccuracy:\", accuracy_score(y_test, y_pred_dtc))"
   ]
  },
  {
   "cell_type": "markdown",
   "metadata": {},
   "source": [
    "## 3. Gradient Boosting Classifier"
   ]
  },
  {
   "cell_type": "code",
   "execution_count": 74,
   "metadata": {},
   "outputs": [
    {
     "name": "stdout",
     "output_type": "stream",
     "text": [
      "time: 24.37 s\n"
     ]
    }
   ],
   "source": [
    "from sklearn.ensemble import GradientBoostingClassifier\n",
    "\n",
    "# grid_values = {'n_estimators': np.linspace(100, 5000, 50, dtype='int32'),  # np.logspace(6, 12, num=7, base=2, dtype='int32'),\n",
    "#                'learning_rate': [0.01],\n",
    "#                'max_leaf_nodes': np.linspace(2, 10, 8, dtype='int32'),\n",
    "#                'max_depth': [100],\n",
    "#                'min_samples_leaf': [10],\n",
    "#                'random_state': [88]} \n",
    "\n",
    "tic = time.time()\n",
    "\n",
    "gbc = GradientBoostingClassifier()\n",
    "gbc.fit(X_train, y_train)\n",
    "\n",
    "# gbc_cv = GridSearchCV(gbc, param_grid=grid_values, cv=5)\n",
    "# gbc_cv.fit(X_train, y_train)\n",
    "\n",
    "toc = time.time()\n",
    "\n",
    "print('time:', round(toc-tic, 2),'s')"
   ]
  },
  {
   "cell_type": "code",
   "execution_count": 75,
   "metadata": {},
   "outputs": [],
   "source": [
    "# n_estimators = gbc_cv.cv_results_['param_n_estimators'].data\n",
    "# cv_acc_scores = gbc_cv.cv_results_['mean_test_score']\n",
    "\n",
    "# plt.figure(figsize=(12, 8))\n",
    "# plt.xlabel('n estimators', fontsize=16)\n",
    "# plt.ylabel('CV Accuracy', fontsize=16)\n",
    "# plt.grid(True, which='both')\n",
    "\n",
    "# N = len(grid_values['max_leaf_nodes'])\n",
    "# M = len(grid_values['n_estimators'])\n",
    "# for i in range(N):\n",
    "#     plt.scatter(n_estimators[(M*i):(M*i)+M], cv_acc_scores[(M*i):(M*i)+M], s=30)\n",
    "#     plt.plot(n_estimators[(M*i):(M*i)+M], cv_acc_scores[(M*i):(M*i)+M], linewidth=2,\n",
    "#              label='max leaf nodes = '+str(grid_values['max_leaf_nodes'][i]))\n",
    "# plt.legend(loc='lower right')\n",
    "# plt.show()"
   ]
  },
  {
   "cell_type": "code",
   "execution_count": 76,
   "metadata": {},
   "outputs": [
    {
     "name": "stdout",
     "output_type": "stream",
     "text": [
      "Confusion Matrix: \n",
      " [[2932 1241]\n",
      " [2244 1832]]\n",
      "\n",
      "Accuracy: 0.5775245484301127\n"
     ]
    }
   ],
   "source": [
    "y_pred_gbc = gbc.predict(X_test)\n",
    "cm_gbc = confusion_matrix(y_test, y_pred_gbc)\n",
    "print (\"Confusion Matrix: \\n\", cm_gbc)\n",
    "print (\"\\nAccuracy:\", accuracy_score(y_test, y_pred_gbc))"
   ]
  },
  {
   "cell_type": "markdown",
   "metadata": {},
   "source": [
    "## 4. LDA\n",
    "Normally distributed features? No"
   ]
  },
  {
   "cell_type": "code",
   "execution_count": 77,
   "metadata": {},
   "outputs": [
    {
     "data": {
      "text/plain": [
       "LinearDiscriminantAnalysis()"
      ]
     },
     "execution_count": 77,
     "metadata": {},
     "output_type": "execute_result"
    }
   ],
   "source": [
    "from sklearn.discriminant_analysis import LinearDiscriminantAnalysis\n",
    "\n",
    "lda = LinearDiscriminantAnalysis()\n",
    "lda.fit(X_train, y_train)"
   ]
  },
  {
   "cell_type": "code",
   "execution_count": 78,
   "metadata": {},
   "outputs": [
    {
     "name": "stdout",
     "output_type": "stream",
     "text": [
      "Confusion Matrix: \n",
      " [[2605 1568]\n",
      " [2003 2073]]\n",
      "\n",
      "Accuracy: 0.5670990423081586\n"
     ]
    }
   ],
   "source": [
    "y_pred_lda = lda.predict(X_test)\n",
    "cm_lda = confusion_matrix(y_test, y_pred_lda)\n",
    "print (\"Confusion Matrix: \\n\", cm_lda)\n",
    "print (\"\\nAccuracy:\", accuracy_score(y_test, y_pred_lda))"
   ]
  },
  {
   "cell_type": "markdown",
   "metadata": {},
   "source": [
    "## 5. Random Forest Classifier"
   ]
  },
  {
   "cell_type": "code",
   "execution_count": 313,
   "metadata": {},
   "outputs": [
    {
     "name": "stdout",
     "output_type": "stream",
     "text": [
      "time: 18.63 s\n"
     ]
    }
   ],
   "source": [
    "from sklearn.ensemble import RandomForestClassifier\n",
    "tic = time.time()\n",
    "rf = RandomForestClassifier(max_features=5, min_samples_leaf=5, n_estimators=500, random_state=88)\n",
    "rf.fit(X_train, y_train)\n",
    "\n",
    "toc = time.time()\n",
    "print('time:', round(toc-tic, 2),'s')"
   ]
  },
  {
   "cell_type": "code",
   "execution_count": 80,
   "metadata": {},
   "outputs": [
    {
     "name": "stdout",
     "output_type": "stream",
     "text": [
      "Confusion Matrix: \n",
      " [[2672 1501]\n",
      " [1929 2147]]\n",
      "\n",
      "Accuracy: 0.5841920232755485\n"
     ]
    }
   ],
   "source": [
    "y_pred_rf = rf.predict(X_test)\n",
    "cm_rf = confusion_matrix(y_test, y_pred_rf)\n",
    "print (\"Confusion Matrix: \\n\", cm_rf)\n",
    "print (\"\\nAccuracy:\", accuracy_score(y_test, y_pred_rf))"
   ]
  },
  {
   "cell_type": "code",
   "execution_count": 81,
   "metadata": {},
   "outputs": [],
   "source": [
    "def classification_metrics(confusion_matrix):\n",
    "    accuracy = (confusion_matrix[0,0] + confusion_matrix[1,1]) / np.sum(confusion_matrix[:,:])\n",
    "    tpr = confusion_matrix[1,1] / (confusion_matrix[1,0] + confusion_matrix[1,1])\n",
    "    fpr = confusion_matrix[0,1] / (confusion_matrix[0,0] + confusion_matrix[0,1])\n",
    "    return [accuracy, tpr, fpr]"
   ]
  },
  {
   "cell_type": "code",
   "execution_count": 330,
   "metadata": {},
   "outputs": [
    {
     "data": {
      "text/html": [
       "<div>\n",
       "<style scoped>\n",
       "    .dataframe tbody tr th:only-of-type {\n",
       "        vertical-align: middle;\n",
       "    }\n",
       "\n",
       "    .dataframe tbody tr th {\n",
       "        vertical-align: top;\n",
       "    }\n",
       "\n",
       "    .dataframe thead th {\n",
       "        text-align: right;\n",
       "    }\n",
       "</style>\n",
       "<table border=\"1\" class=\"dataframe\">\n",
       "  <thead>\n",
       "    <tr style=\"text-align: right;\">\n",
       "      <th></th>\n",
       "      <th>Accuracy</th>\n",
       "      <th>TPR</th>\n",
       "      <th>FPR</th>\n",
       "    </tr>\n",
       "  </thead>\n",
       "  <tbody>\n",
       "    <tr>\n",
       "      <th>Baseline Model</th>\n",
       "      <td>0.505880</td>\n",
       "      <td>0.000000</td>\n",
       "      <td>0.000000</td>\n",
       "    </tr>\n",
       "    <tr>\n",
       "      <th>Logistic Regression</th>\n",
       "      <td>0.568311</td>\n",
       "      <td>0.516192</td>\n",
       "      <td>0.380781</td>\n",
       "    </tr>\n",
       "    <tr>\n",
       "      <th>Classification Tree Model</th>\n",
       "      <td>0.544430</td>\n",
       "      <td>0.409715</td>\n",
       "      <td>0.323988</td>\n",
       "    </tr>\n",
       "    <tr>\n",
       "      <th>Gradient Boosted Classifier</th>\n",
       "      <td>0.577525</td>\n",
       "      <td>0.449460</td>\n",
       "      <td>0.297388</td>\n",
       "    </tr>\n",
       "    <tr>\n",
       "      <th>LDA</th>\n",
       "      <td>0.567099</td>\n",
       "      <td>0.508587</td>\n",
       "      <td>0.375749</td>\n",
       "    </tr>\n",
       "    <tr>\n",
       "      <th>Random Forest</th>\n",
       "      <td>0.584192</td>\n",
       "      <td>0.526742</td>\n",
       "      <td>0.359693</td>\n",
       "    </tr>\n",
       "  </tbody>\n",
       "</table>\n",
       "</div>"
      ],
      "text/plain": [
       "                             Accuracy       TPR       FPR\n",
       "Baseline Model               0.505880  0.000000  0.000000\n",
       "Logistic Regression          0.568311  0.516192  0.380781\n",
       "Classification Tree Model    0.544430  0.409715  0.323988\n",
       "Gradient Boosted Classifier  0.577525  0.449460  0.297388\n",
       "LDA                          0.567099  0.508587  0.375749\n",
       "Random Forest                0.584192  0.526742  0.359693"
      ]
     },
     "execution_count": 330,
     "metadata": {},
     "output_type": "execute_result"
    }
   ],
   "source": [
    "comparison_data = [classification_metrics(models) for models in [cm_baseline, cm_logit, cm_dtc, cm_gbc, cm_lda, cm_rf]] \n",
    "comparison_table = pd.DataFrame(data=comparison_data, index=['Baseline Model', 'Logistic Regression', 'Classification Tree Model', 'Gradient Boosted Classifier', 'LDA', 'Random Forest'])\n",
    "comparison_table = comparison_table.rename(columns={0:'Accuracy', 1:'TPR', 2:'FPR'})\n",
    "comparison_table"
   ]
  },
  {
   "cell_type": "markdown",
   "metadata": {},
   "source": [
    "## Bootstrapping Random Forest"
   ]
  },
  {
   "cell_type": "code",
   "execution_count": null,
   "metadata": {},
   "outputs": [],
   "source": [
    "# pip install bootstrapped"
   ]
  },
  {
   "cell_type": "code",
   "execution_count": 83,
   "metadata": {},
   "outputs": [],
   "source": [
    "import bootstrapped.bootstrap as bs\n",
    "import bootstrapped.stats_functions as bs_stats"
   ]
  },
  {
   "cell_type": "code",
   "execution_count": 324,
   "metadata": {},
   "outputs": [],
   "source": [
    "def accuracy(predictions, y_test,y_train):\n",
    "    return accuracy_score(y_test,predictions)\n",
    "\n",
    "def tpr(predictions, y_test, y_train):\n",
    "    cm = confusion_matrix(y_test, predictions)\n",
    "    tpr = cm[1,1] / (cm[1,0] + cm[1,1])\n",
    "    return tpr\n",
    "\n",
    "def fpr(predictions, y_test,y_train):\n",
    "    cm = confusion_matrix(y_test, predictions)\n",
    "    fpr = cm[0,1] / (cm[0,0] + cm[0,1])\n",
    "    return fpr"
   ]
  },
  {
   "cell_type": "code",
   "execution_count": 85,
   "metadata": {},
   "outputs": [],
   "source": [
    "import time\n",
    "\n",
    "def bootstrap_validation(test_data, test_label, train_label, model, metrics_list, sample=500, random_state=66):\n",
    "    tic = time.time()\n",
    "    n_sample = sample\n",
    "    n_metrics = len(metrics_list)\n",
    "    output_array=np.zeros([n_sample, n_metrics])\n",
    "    output_array[:]=np.nan\n",
    "    print(output_array.shape)\n",
    "    for bs_iter in range(n_sample):\n",
    "        bs_index = np.random.choice(test_data.index, len(test_data.index), replace=True)\n",
    "        bs_data = test_data.loc[bs_index]\n",
    "        bs_label = test_label.loc[bs_index]\n",
    "        bs_predicted = model.predict(bs_data)\n",
    "        for metrics_iter in range(n_metrics):\n",
    "            metrics = metrics_list[metrics_iter]\n",
    "            output_array[bs_iter, metrics_iter]=metrics(bs_predicted,bs_label,train_label)\n",
    "#         if bs_iter % 100 == 0:\n",
    "#             print(bs_iter, time.time()-tic)\n",
    "    output_df = pd.DataFrame(output_array)\n",
    "    return output_df"
   ]
  },
  {
   "cell_type": "code",
   "execution_count": 332,
   "metadata": {},
   "outputs": [
    {
     "name": "stdout",
     "output_type": "stream",
     "text": [
      "(500, 3)\n",
      "time: 1035.06 s\n"
     ]
    }
   ],
   "source": [
    "tic = time.time()\n",
    "# 100 samples took me ~3 minutes to run\n",
    "# 500 samples took me ~15 minutes to run\n",
    "# 1000 samples took me ~30 minutes to run\n",
    "\n",
    "bs_output = bootstrap_validation(X_test,y_test,y_train,rf,\n",
    "                                 metrics_list=[accuracy, tpr, fpr],\n",
    "                                 sample = 500)\n",
    "\n",
    "toc = time.time()\n",
    "print('time:', round(toc-tic, 2),'s')"
   ]
  },
  {
   "cell_type": "code",
   "execution_count": 333,
   "metadata": {},
   "outputs": [
    {
     "data": {
      "text/html": [
       "<div>\n",
       "<style scoped>\n",
       "    .dataframe tbody tr th:only-of-type {\n",
       "        vertical-align: middle;\n",
       "    }\n",
       "\n",
       "    .dataframe tbody tr th {\n",
       "        vertical-align: top;\n",
       "    }\n",
       "\n",
       "    .dataframe thead th {\n",
       "        text-align: right;\n",
       "    }\n",
       "</style>\n",
       "<table border=\"1\" class=\"dataframe\">\n",
       "  <thead>\n",
       "    <tr style=\"text-align: right;\">\n",
       "      <th></th>\n",
       "      <th>0</th>\n",
       "      <th>1</th>\n",
       "      <th>2</th>\n",
       "    </tr>\n",
       "  </thead>\n",
       "  <tbody>\n",
       "    <tr>\n",
       "      <th>0</th>\n",
       "      <td>0.586374</td>\n",
       "      <td>0.520723</td>\n",
       "      <td>0.347158</td>\n",
       "    </tr>\n",
       "    <tr>\n",
       "      <th>1</th>\n",
       "      <td>0.592920</td>\n",
       "      <td>0.537770</td>\n",
       "      <td>0.352130</td>\n",
       "    </tr>\n",
       "    <tr>\n",
       "      <th>2</th>\n",
       "      <td>0.589284</td>\n",
       "      <td>0.523310</td>\n",
       "      <td>0.345617</td>\n",
       "    </tr>\n",
       "    <tr>\n",
       "      <th>3</th>\n",
       "      <td>0.587586</td>\n",
       "      <td>0.532544</td>\n",
       "      <td>0.359170</td>\n",
       "    </tr>\n",
       "    <tr>\n",
       "      <th>4</th>\n",
       "      <td>0.588314</td>\n",
       "      <td>0.527246</td>\n",
       "      <td>0.352096</td>\n",
       "    </tr>\n",
       "    <tr>\n",
       "      <th>...</th>\n",
       "      <td>...</td>\n",
       "      <td>...</td>\n",
       "      <td>...</td>\n",
       "    </tr>\n",
       "    <tr>\n",
       "      <th>495</th>\n",
       "      <td>0.586859</td>\n",
       "      <td>0.522527</td>\n",
       "      <td>0.350060</td>\n",
       "    </tr>\n",
       "    <tr>\n",
       "      <th>496</th>\n",
       "      <td>0.587708</td>\n",
       "      <td>0.522623</td>\n",
       "      <td>0.346939</td>\n",
       "    </tr>\n",
       "    <tr>\n",
       "      <th>497</th>\n",
       "      <td>0.587950</td>\n",
       "      <td>0.527615</td>\n",
       "      <td>0.352658</td>\n",
       "    </tr>\n",
       "    <tr>\n",
       "      <th>498</th>\n",
       "      <td>0.587465</td>\n",
       "      <td>0.527806</td>\n",
       "      <td>0.356589</td>\n",
       "    </tr>\n",
       "    <tr>\n",
       "      <th>499</th>\n",
       "      <td>0.580192</td>\n",
       "      <td>0.528145</td>\n",
       "      <td>0.368724</td>\n",
       "    </tr>\n",
       "  </tbody>\n",
       "</table>\n",
       "<p>500 rows × 3 columns</p>\n",
       "</div>"
      ],
      "text/plain": [
       "            0         1         2\n",
       "0    0.586374  0.520723  0.347158\n",
       "1    0.592920  0.537770  0.352130\n",
       "2    0.589284  0.523310  0.345617\n",
       "3    0.587586  0.532544  0.359170\n",
       "4    0.588314  0.527246  0.352096\n",
       "..        ...       ...       ...\n",
       "495  0.586859  0.522527  0.350060\n",
       "496  0.587708  0.522623  0.346939\n",
       "497  0.587950  0.527615  0.352658\n",
       "498  0.587465  0.527806  0.356589\n",
       "499  0.580192  0.528145  0.368724\n",
       "\n",
       "[500 rows x 3 columns]"
      ]
     },
     "execution_count": 333,
     "metadata": {},
     "output_type": "execute_result"
    }
   ],
   "source": [
    "bs_output"
   ]
  },
  {
   "cell_type": "code",
   "execution_count": 334,
   "metadata": {},
   "outputs": [
    {
     "data": {
      "text/plain": [
       "(array([ 1.,  0.,  1.,  4.,  6., 16., 30., 38., 52., 57., 62., 59., 45.,\n",
       "        47., 37., 23., 14.,  6.,  1.,  1.]),\n",
       " array([-0.02604149, -0.0236178 , -0.0211941 , -0.01877041, -0.01634672,\n",
       "        -0.01392303, -0.01149934, -0.00907565, -0.00665196, -0.00422827,\n",
       "        -0.00180457,  0.00061912,  0.00304281,  0.0054665 ,  0.00789019,\n",
       "         0.01031388,  0.01273757,  0.01516126,  0.01758496,  0.02000865,\n",
       "         0.02243234]),\n",
       " <BarContainer object of 20 artists>)"
      ]
     },
     "execution_count": 334,
     "metadata": {},
     "output_type": "execute_result"
    },
    {
     "data": {
      "image/png": "[encoded data removed]",
      "text/plain": [
       "<Figure size 864x360 with 2 Axes>"
      ]
     },
     "metadata": {
      "needs_background": "light"
     },
     "output_type": "display_data"
    },
    {
     "data": {
      "image/png": "[encoded data removed]",
      "text/plain": [
       "<Figure size 864x360 with 2 Axes>"
      ]
     },
     "metadata": {
      "needs_background": "light"
     },
     "output_type": "display_data"
    },
    {
     "data": {
      "image/png": "[encoded data removed]",
      "text/plain": [
       "<Figure size 864x360 with 2 Axes>"
      ]
     },
     "metadata": {
      "needs_background": "light"
     },
     "output_type": "display_data"
    }
   ],
   "source": [
    "test_accuracy = accuracy(y_pred_rf,y_test,y_train)\n",
    "test_tpr = tpr(y_pred_rf,y_test,y_train)\n",
    "test_fpr = fpr(y_pred_rf,y_test,y_train)\n",
    "\n",
    "fig, axs = plt.subplots(ncols=2, nrows = 1, figsize=(12,5))\n",
    "axs[0].set_ylabel('Count', fontsize=16)\n",
    "axs[0].set_xlabel('Bootstrap Accuracy Estimate', fontsize=16)\n",
    "axs[0].hist(bs_output.iloc[:,0], bins=20,edgecolor='green', linewidth=2,color = \"grey\")\n",
    "axs[0].set_xlim([0.56,0.61])\n",
    "axs[1].set_xlabel('Boot Accuracy - Test Set Accuracy', fontsize=16) # Bias\n",
    "axs[1].hist(bs_output.iloc[:,0]-test_accuracy, bins=20,edgecolor='green', linewidth=2,color = \"grey\")\n",
    "axs[1].set_xlim([-0.02,0.02])\n",
    "\n",
    "fig2, axs2 = plt.subplots(ncols=2, nrows = 1, figsize=(12,5))\n",
    "\n",
    "axs2[0].set_xlabel('Bootstrap TPR Estimate', fontsize=16)\n",
    "axs2[0].hist(bs_output.iloc[:,1], bins=20,edgecolor='green', linewidth=2,color = \"grey\")\n",
    "axs2[1].set_xlabel('Boot TPR - Test Set TPR', fontsize=16) # Bias\n",
    "axs2[1].hist(bs_output.iloc[:,1]-test_tpr, bins=20,edgecolor='green', linewidth=2,color = \"grey\")\n",
    "\n",
    "fig3, axs3 = plt.subplots(ncols=2, nrows = 1, figsize=(12,5))\n",
    "\n",
    "axs3[0].set_xlabel('Bootstrap FPR Estimate', fontsize=16)\n",
    "axs3[0].hist(bs_output.iloc[:,1], bins=20,edgecolor='green', linewidth=2,color = \"grey\")\n",
    "axs3[1].set_xlabel('Boot FPR - Test Set FPR', fontsize=16) # Bias\n",
    "axs3[1].hist(bs_output.iloc[:,2]-test_fpr, bins=20,edgecolor='green', linewidth=2,color = \"grey\")\n",
    "\n"
   ]
  },
  {
   "cell_type": "code",
   "execution_count": 335,
   "metadata": {},
   "outputs": [
    {
     "name": "stdout",
     "output_type": "stream",
     "text": [
      "The 95-percent confidence interval of accuracy is [0.57363317 0.59461753]\n",
      "The 95-percent confidence interval of TPR is [0.51122181 0.54155314]\n",
      "The 95-percent confidence interval of FPR is [0.34592484 0.37317585]\n"
     ]
    }
   ],
   "source": [
    "# The 95% confidence interval\n",
    "CI_accuracy= np.quantile(bs_output.iloc[:,0],np.array([0.025,0.975]))\n",
    "print(\"The 95-percent confidence interval of accuracy is %s\" % CI_accuracy)\n",
    "\n",
    "CI_TPR= np.quantile(bs_output.iloc[:,1],np.array([0.025,0.975]))\n",
    "print(\"The 95-percent confidence interval of TPR is %s\" % CI_TPR)\n",
    "\n",
    "CI_FPR= np.quantile(bs_output.iloc[:,2],np.array([0.025,0.975]))\n",
    "print(\"The 95-percent confidence interval of FPR is %s\" % CI_FPR)"
   ]
  },
  {
   "cell_type": "markdown",
   "metadata": {},
   "source": [
    "b) Report on the details of your training procedures and final comparisons on the test set.  Useyour best judgment to choose a final model and explain your choice. Use the bootstrap to asses the performance of your single chosen final model in a way that properly reports on the variability of the relevant performance metrics (accuracy, TPR, and FPR). \n",
    "#### Summary: Details of  training procedures and final comparisons on the test set.  \n",
    "I chose to use the random forest  model because it has the highest accuracy and the a highest TPR while having an intermediate FPR level. Using bootstraping with 500 bootstrapped samples shows that the histograms for all three metrics (accuracy, TPR, FPR) are centered at zero with a normal distribution. This is good, because on average, the final model won't predict outliers, and the variability of the performance metrics is small.\n",
    "\n",
    "The 95-percent confidence interval of accuracy is [0.57590617, 0.5948024].\n",
    "The 95-percent confidence interval of TPR is [0.51300338, 0.54137507].\n",
    "The 95-percent confidence interval of FPR is [0.34533129, 0.37298975].\n",
    "\n",
    "The confidence intervals are relatively narrow, which shows that the performance metrics have low variability. Note that the accuracy of the baseline model is not within the RF CI of accuracy, which suggests that the RF does significantly improve accuracy. "
   ]
  },
  {
   "cell_type": "markdown",
   "metadata": {},
   "source": [
    "# Part C\n",
    "Suppose that Stack Exchange would like to keep these same 15 most recently submitted questions on thispage,  but  they  would  like  to  rearrange  the  order  of  the  questions  so  as  to  show  the  mostuseful questions at the top of the page.  Suppose further that Stack Exchange believes that most users are extremely impatient and will only pay attention to the single question at the very top of the page, and therefore they would like to maximize the probability that the top question is useful.\n",
    "\n",
    "## i) \n",
    "To best accomplishthe  goal  of  maximizing  the  probability  that  the  top  question  is  useful, I would select a model with the highest TPR. The true positive rate is the rate at which a question that is predicted to be useful is actually useful. The higher this is, the greater the probability that the question that is put at the top and predicted to be useful -- is actually useful. \n",
    "\n",
    "## ii)\n",
    "My model with the highest TPR is the random forest model, so I will chose this one.\n",
    "\n",
    "How much does the model you selected improve upon StackExchange’s current approach of showing the most recent posts first (described above)?In particular, use the results of your model on the test set to give a precise numericalestimate of the increase in the probability that the top question is useful.  If you like, youmay use a back-of-the-envelope “on average” style of analysis as part of your reasoningto answer this question."
   ]
  },
  {
   "cell_type": "code",
   "execution_count": null,
   "metadata": {},
   "outputs": [],
   "source": [
    "# from sklearn.ensemble import RandomForestClassifier\n",
    "\n",
    "# # Here, I retrain the model to favor predicting not useful (0)\n",
    "\n",
    "# tic = time.time()\n",
    "# rf_new = RandomForestClassifier(max_features=5, min_samples_leaf=5, n_estimators=500, random_state=88, class_weight = {0:1.2, 1:1})\n",
    "# rf_new.fit(X_train, y_train)\n",
    "\n",
    "# toc = time.time()\n",
    "# print('time:', round(toc-tic, 2),'s')\n",
    "\n",
    "# y_pred_rf_new = rf_new.predict(X_test)\n",
    "# cm_rf_new = confusion_matrix(y_test, y_pred_rf_new)\n",
    "# print (\"Confusion Matrix: \\n\", cm_rf_new)\n",
    "# print (\"\\nAccuracy:\", accuracy_score(y_test, y_pred_rf_new))"
   ]
  },
  {
   "cell_type": "code",
   "execution_count": 320,
   "metadata": {},
   "outputs": [],
   "source": [
    "# classification_metrics(cm_rf_new)\n",
    "# from sklearn.metrics import plot_roc_curve\n",
    "# plot_roc_curve(rf_new, y_test, y_pred_rf_new)"
   ]
  },
  {
   "cell_type": "code",
   "execution_count": 318,
   "metadata": {},
   "outputs": [
    {
     "name": "stdout",
     "output_type": "stream",
     "text": [
      "Time:  8.56705657099883\n",
      "New Model Average:  0.6654139895744938\n",
      "Old Model Average:  0.6289247181476543\n"
     ]
    }
   ],
   "source": [
    "import random\n",
    "\n",
    "all_posts = pd.merge(test.loc[:,'Id':'Score'], X_test, left_index = True, right_index = True)\n",
    "all_posts_probs = rf_new.predict_proba(all_posts.iloc[:, 2:]) #first column is P(not useful), second column is P(useful)\n",
    "all_posts[['Not Useful', 'Useful']] = all_posts_probs\n",
    "\n",
    "successes_new_model, successes_old_model = [], []\n",
    "start = timeit.default_timer()\n",
    "\n",
    "# TAKES ~7 MINUTES TO RUN edit: not anymore! improved efficincy to 9 seconds :o\n",
    "for _ in range(len(X_test)): #len(X_test)\n",
    "    random.seed(1)\n",
    "    shown_posts = all_posts.sample(15, replace = False).sort_values(by='Id')\n",
    "\n",
    "    top_question_is_useful = [1 if shown_posts.iloc[0, 1] >= 1 else 0]\n",
    "    successes_old_model.append(top_question_is_useful)\n",
    "\n",
    "    # Rearrange the order of questions to show the most useful question at the top. \n",
    "    # This means put the question with the highest probability of being useful at the top.\n",
    "    position_of_most_useful_question = np.argmax(shown_posts['Useful']) #probability of the most useful question being useful\n",
    "    top_reordered_question_is_useful = [1 if shown_posts.iloc[position_of_most_useful_question, 1] >= 1 else 0]\n",
    "    successes_new_model.append(top_reordered_question_is_useful)\n",
    "    \n",
    "stop = timeit.default_timer()\n",
    "print('Time: ', stop - start)\n",
    "\n",
    "print('New Model Average: ', np.mean(successes_new_model))\n",
    "print('Old Model Average: ', np.mean(successes_old_model))"
   ]
  },
  {
   "cell_type": "markdown",
   "metadata": {},
   "source": [
    "#### c.ii) Using my random forest model (which yielded the greatest TPR), the estimate of the increase in the probability that the top question is useful increased from 0.628 to 0.665. This is a 0.037 increase in probability, which I believe would be useful to stack exchange."
   ]
  }
 ],
 "metadata": {
  "kernelspec": {
   "display_name": "Python 3 (ipykernel)",
   "language": "python",
   "name": "python3"
  },
  "language_info": {
   "codemirror_mode": {
    "name": "ipython",
    "version": 3
   },
   "file_extension": ".py",
   "mimetype": "text/x-python",
   "name": "python",
   "nbconvert_exporter": "python",
   "pygments_lexer": "ipython3",
   "version": "3.9.12"
  }
 },
 "nbformat": 4,
 "nbformat_minor": 4
}
